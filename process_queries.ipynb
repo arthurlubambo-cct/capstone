{
 "cells": [
  {
   "cell_type": "code",
   "execution_count": 1,
   "id": "dce9c0b5-e5fc-40fa-9af8-b47443b1ba9d",
   "metadata": {
    "tags": []
   },
   "outputs": [],
   "source": [
    "import pandas as pd\n"
   ]
  },
  {
   "cell_type": "code",
   "execution_count": 2,
   "id": "e24e7916-9838-437e-bac9-7e4c4ec1ba96",
   "metadata": {
    "tags": []
   },
   "outputs": [
    {
     "data": {
      "text/html": [
       "<div>\n",
       "<style scoped>\n",
       "    .dataframe tbody tr th:only-of-type {\n",
       "        vertical-align: middle;\n",
       "    }\n",
       "\n",
       "    .dataframe tbody tr th {\n",
       "        vertical-align: top;\n",
       "    }\n",
       "\n",
       "    .dataframe thead th {\n",
       "        text-align: right;\n",
       "    }\n",
       "</style>\n",
       "<table border=\"1\" class=\"dataframe\">\n",
       "  <thead>\n",
       "    <tr style=\"text-align: right;\">\n",
       "      <th></th>\n",
       "      <th>Filename</th>\n",
       "      <th>Query ID</th>\n",
       "      <th>Song ID</th>\n",
       "      <th>Title</th>\n",
       "      <th>Original artist</th>\n",
       "      <th>Class label</th>\n",
       "    </tr>\n",
       "  </thead>\n",
       "  <tbody>\n",
       "    <tr>\n",
       "      <th>0</th>\n",
       "      <td>q1.wav</td>\n",
       "      <td>q1</td>\n",
       "      <td>1118</td>\n",
       "      <td>Mother natures son</td>\n",
       "      <td>The Beatles</td>\n",
       "      <td>mothernat</td>\n",
       "    </tr>\n",
       "    <tr>\n",
       "      <th>1</th>\n",
       "      <td>q2.wav</td>\n",
       "      <td>q2</td>\n",
       "      <td>1438</td>\n",
       "      <td>Scarborough fair</td>\n",
       "      <td>Unknown</td>\n",
       "      <td>scarborou</td>\n",
       "    </tr>\n",
       "    <tr>\n",
       "      <th>2</th>\n",
       "      <td>q3.wav</td>\n",
       "      <td>q3</td>\n",
       "      <td>1546</td>\n",
       "      <td>Stairway to heaven</td>\n",
       "      <td>Led Zeppelin</td>\n",
       "      <td>stairway2h</td>\n",
       "    </tr>\n",
       "    <tr>\n",
       "      <th>3</th>\n",
       "      <td>q4.wav</td>\n",
       "      <td>q4</td>\n",
       "      <td>1579</td>\n",
       "      <td>Strawberry fields forever</td>\n",
       "      <td>The Beatles</td>\n",
       "      <td>strawberry</td>\n",
       "    </tr>\n",
       "    <tr>\n",
       "      <th>4</th>\n",
       "      <td>q5.wav</td>\n",
       "      <td>q5</td>\n",
       "      <td>1808</td>\n",
       "      <td>When I am sixty four</td>\n",
       "      <td>The Beatles</td>\n",
       "      <td>whenim64</td>\n",
       "    </tr>\n",
       "  </tbody>\n",
       "</table>\n",
       "</div>"
      ],
      "text/plain": [
       "  Filename Query ID  Song ID                       Title Original artist  \\\n",
       "0   q1.wav       q1     1118          Mother natures son     The Beatles   \n",
       "1   q2.wav       q2     1438            Scarborough fair         Unknown   \n",
       "2   q3.wav       q3     1546          Stairway to heaven    Led Zeppelin   \n",
       "3   q4.wav       q4     1579   Strawberry fields forever     The Beatles   \n",
       "4   q5.wav       q5     1808        When I am sixty four     The Beatles   \n",
       "\n",
       "   Class label  \n",
       "0    mothernat  \n",
       "1    scarborou  \n",
       "2   stairway2h  \n",
       "3   strawberry  \n",
       "4     whenim64  "
      ]
     },
     "execution_count": 2,
     "metadata": {},
     "output_type": "execute_result"
    }
   ],
   "source": [
    "queries_df = pd.read_csv(\"./MTG-QBH/metadata/Queries.csv\")\n",
    "queries_df.head()"
   ]
  },
  {
   "cell_type": "code",
   "execution_count": 3,
   "id": "fc5af317-f199-4e58-a92d-2137fddcbbbc",
   "metadata": {
    "tags": []
   },
   "outputs": [
    {
     "data": {
      "text/plain": [
       "(118, 6)"
      ]
     },
     "execution_count": 3,
     "metadata": {},
     "output_type": "execute_result"
    }
   ],
   "source": [
    "queries_df.shape"
   ]
  },
  {
   "cell_type": "code",
   "execution_count": 5,
   "id": "93f406e9-8ddb-4c1b-a3cb-6935cc800553",
   "metadata": {
    "tags": []
   },
   "outputs": [],
   "source": [
    "from basic_pitch.inference import predict\n",
    "from basic_pitch import ICASSP_2022_MODEL_PATH\n",
    "\n",
    "# FUNCTIONS\n",
    "def get_query_basic_midi(query_id):\n",
    "    model_output, midi_data, note_events = predict(f\"MTG-QBH/audio/{query_id}.wav\")\n",
    "    return midi_data\n",
    "def append_query_midi(df):\n",
    "    df[\"query_basic_midi\"] = df[\"Query ID\"].apply(lambda x: get_query_basic_midi(str(x)))\n",
    "    return df"
   ]
  },
  {
   "cell_type": "code",
   "execution_count": 18,
   "id": "80f01be7-0174-476b-8669-6e5718391dad",
   "metadata": {
    "tags": []
   },
   "outputs": [],
   "source": [
    "# %%capture\n",
    "# queries_df = append_query_midi(queries_df)\n",
    "# queries_df.to_pickle(\"./queries_with_midi.pkl\")"
   ]
  },
  {
   "cell_type": "code",
   "execution_count": 16,
   "id": "2a895650-206b-4aff-ab95-9680d5e9105e",
   "metadata": {},
   "outputs": [],
   "source": [
    "queries_df = pd.read_pickle(\"./queries_with_midi.pkl\")"
   ]
  }
 ],
 "metadata": {
  "kernelspec": {
   "display_name": "Python 3 (ipykernel)",
   "language": "python",
   "name": "python3"
  },
  "language_info": {
   "codemirror_mode": {
    "name": "ipython",
    "version": 3
   },
   "file_extension": ".py",
   "mimetype": "text/x-python",
   "name": "python",
   "nbconvert_exporter": "python",
   "pygments_lexer": "ipython3",
   "version": "3.11.4"
  }
 },
 "nbformat": 4,
 "nbformat_minor": 5
}

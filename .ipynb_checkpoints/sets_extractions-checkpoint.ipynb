{
 "cells": [
  {
   "cell_type": "code",
   "execution_count": 95,
   "id": "598bd8a2-45f3-49d7-bdcd-93168a6a1ab8",
   "metadata": {
    "tags": []
   },
   "outputs": [],
   "source": [
    "import pandas as pd"
   ]
  },
  {
   "cell_type": "code",
   "execution_count": 1,
   "id": "5ee65f63-d92f-487e-b026-d6f32c8714a0",
   "metadata": {
    "tags": []
   },
   "outputs": [],
   "source": [
    "import pandas as pd\n",
    "import librosa\n",
    "import numpy as np\n",
    "from IPython.display import display\n",
    "from IPython.display import Audio\n",
    "import seaborn as sns\n",
    "import matplotlib.pyplot as plt\n",
    "import mir_eval.sonify\n",
    "import copy\n",
    "import pretty_midi\n",
    "import nltk\n",
    "from nltk.util import ngrams"
   ]
  },
  {
   "cell_type": "markdown",
   "id": "fbcd73aa-b2dd-4ca2-9416-fbc01e29d7b8",
   "metadata": {},
   "source": [
    "## Read Queries and Songs"
   ]
  },
  {
   "cell_type": "code",
   "execution_count": 50,
   "id": "b3a881c4-68da-4a9b-86e4-dd23991ee9f9",
   "metadata": {
    "tags": []
   },
   "outputs": [],
   "source": [
    "queries_df = pd.read_pickle(\"./queries_on_beat_melody.pkl\")"
   ]
  },
  {
   "cell_type": "code",
   "execution_count": 52,
   "id": "4279217d",
   "metadata": {
    "tags": []
   },
   "outputs": [],
   "source": [
    "songs_df = pd.read_pickle(\"./songs_with_on_beat_melody.pkl\")"
   ]
  },
  {
   "cell_type": "code",
   "execution_count": 53,
   "id": "4fc8a86b-99b3-4467-b808-3fcb7b123e42",
   "metadata": {
    "tags": []
   },
   "outputs": [
    {
     "data": {
      "text/html": [
       "<div>\n",
       "<style scoped>\n",
       "    .dataframe tbody tr th:only-of-type {\n",
       "        vertical-align: middle;\n",
       "    }\n",
       "\n",
       "    .dataframe tbody tr th {\n",
       "        vertical-align: top;\n",
       "    }\n",
       "\n",
       "    .dataframe thead th {\n",
       "        text-align: right;\n",
       "    }\n",
       "</style>\n",
       "<table border=\"1\" class=\"dataframe\">\n",
       "  <thead>\n",
       "    <tr style=\"text-align: right;\">\n",
       "      <th></th>\n",
       "      <th>Filename</th>\n",
       "      <th>Query ID</th>\n",
       "      <th>Song ID</th>\n",
       "      <th>Title</th>\n",
       "      <th>Original artist</th>\n",
       "      <th>Class label</th>\n",
       "      <th>query_basic_midi</th>\n",
       "      <th>f0</th>\n",
       "      <th>voiced_flag</th>\n",
       "      <th>metric</th>\n",
       "      <th>clean_midi_onset</th>\n",
       "      <th>on_beat_melody</th>\n",
       "    </tr>\n",
       "  </thead>\n",
       "  <tbody>\n",
       "    <tr>\n",
       "      <th>0</th>\n",
       "      <td>q1.wav</td>\n",
       "      <td>q1</td>\n",
       "      <td>1118</td>\n",
       "      <td>Mother natures son</td>\n",
       "      <td>The Beatles</td>\n",
       "      <td>mothernat</td>\n",
       "      <td>&lt;pretty_midi.pretty_midi.PrettyMIDI object at ...</td>\n",
       "      <td>[nan, nan, nan, nan, nan, nan, nan, nan, nan, ...</td>\n",
       "      <td>[False, False, False, False, False, False, Fal...</td>\n",
       "      <td>[1.0, 0.666, 2.0, 0.25, 11, 0.25, 5, 1.5, 0.25...</td>\n",
       "      <td>&lt;pretty_midi.pretty_midi.PrettyMIDI object at ...</td>\n",
       "      <td>[[2, 0, 2, -2, 2, -2, 0, 2, 3, -1, 2, 0, -4, 0...</td>\n",
       "    </tr>\n",
       "    <tr>\n",
       "      <th>1</th>\n",
       "      <td>q2.wav</td>\n",
       "      <td>q2</td>\n",
       "      <td>1438</td>\n",
       "      <td>Scarborough fair</td>\n",
       "      <td>Unknown</td>\n",
       "      <td>scarborou</td>\n",
       "      <td>&lt;pretty_midi.pretty_midi.PrettyMIDI object at ...</td>\n",
       "      <td>[nan, nan, nan, nan, nan, nan, nan, nan, nan, ...</td>\n",
       "      <td>[False, False, False, False, False, False, Fal...</td>\n",
       "      <td>[0.666, 2.0, 0.25, 6, 1.0, 2.0, 0.25, 1.5, 0.2...</td>\n",
       "      <td>&lt;pretty_midi.pretty_midi.PrettyMIDI object at ...</td>\n",
       "      <td>[[-1, 0, 0, 6, 1, 0, 0, -5, 0, 1, -1, -2, 0, -...</td>\n",
       "    </tr>\n",
       "  </tbody>\n",
       "</table>\n",
       "</div>"
      ],
      "text/plain": [
       "  Filename Query ID  Song ID                Title Original artist Class label  \\\n",
       "0   q1.wav       q1     1118   Mother natures son     The Beatles   mothernat   \n",
       "1   q2.wav       q2     1438     Scarborough fair         Unknown   scarborou   \n",
       "\n",
       "                                    query_basic_midi  \\\n",
       "0  <pretty_midi.pretty_midi.PrettyMIDI object at ...   \n",
       "1  <pretty_midi.pretty_midi.PrettyMIDI object at ...   \n",
       "\n",
       "                                                  f0  \\\n",
       "0  [nan, nan, nan, nan, nan, nan, nan, nan, nan, ...   \n",
       "1  [nan, nan, nan, nan, nan, nan, nan, nan, nan, ...   \n",
       "\n",
       "                                         voiced_flag  \\\n",
       "0  [False, False, False, False, False, False, Fal...   \n",
       "1  [False, False, False, False, False, False, Fal...   \n",
       "\n",
       "                                              metric  \\\n",
       "0  [1.0, 0.666, 2.0, 0.25, 11, 0.25, 5, 1.5, 0.25...   \n",
       "1  [0.666, 2.0, 0.25, 6, 1.0, 2.0, 0.25, 1.5, 0.2...   \n",
       "\n",
       "                                    clean_midi_onset  \\\n",
       "0  <pretty_midi.pretty_midi.PrettyMIDI object at ...   \n",
       "1  <pretty_midi.pretty_midi.PrettyMIDI object at ...   \n",
       "\n",
       "                                      on_beat_melody  \n",
       "0  [[2, 0, 2, -2, 2, -2, 0, 2, 3, -1, 2, 0, -4, 0...  \n",
       "1  [[-1, 0, 0, 6, 1, 0, 0, -5, 0, 1, -1, -2, 0, -...  "
      ]
     },
     "execution_count": 53,
     "metadata": {},
     "output_type": "execute_result"
    }
   ],
   "source": [
    "queries_df.head(2)"
   ]
  },
  {
   "cell_type": "code",
   "execution_count": 54,
   "id": "b7f4909f-ca0a-4eae-948f-79e24abfe657",
   "metadata": {
    "tags": []
   },
   "outputs": [
    {
     "data": {
      "text/html": [
       "<div>\n",
       "<style scoped>\n",
       "    .dataframe tbody tr th:only-of-type {\n",
       "        vertical-align: middle;\n",
       "    }\n",
       "\n",
       "    .dataframe tbody tr th {\n",
       "        vertical-align: top;\n",
       "    }\n",
       "\n",
       "    .dataframe thead th {\n",
       "        text-align: right;\n",
       "    }\n",
       "</style>\n",
       "<table border=\"1\" class=\"dataframe\">\n",
       "  <thead>\n",
       "    <tr style=\"text-align: right;\">\n",
       "      <th></th>\n",
       "      <th>Song ID</th>\n",
       "      <th>Title</th>\n",
       "      <th>Artist</th>\n",
       "      <th>Original artist</th>\n",
       "      <th>Canonical</th>\n",
       "      <th>Class label</th>\n",
       "      <th>vocals_midi</th>\n",
       "      <th>vocals_f0</th>\n",
       "      <th>vocals_f0_voiced_flag</th>\n",
       "      <th>other_f0</th>\n",
       "      <th>other_f0_voiced_flag</th>\n",
       "      <th>vocals_metric</th>\n",
       "      <th>vocal_clean_midi</th>\n",
       "      <th>vocals_on_beat_melody</th>\n",
       "      <th>other_on_beat_melody</th>\n",
       "    </tr>\n",
       "  </thead>\n",
       "  <tbody>\n",
       "    <tr>\n",
       "      <th>0</th>\n",
       "      <td>1</td>\n",
       "      <td>One hundred years</td>\n",
       "      <td>The Cure</td>\n",
       "      <td>The Cure</td>\n",
       "      <td>YES</td>\n",
       "      <td>100years</td>\n",
       "      <td>&lt;pretty_midi.pretty_midi.PrettyMIDI object at ...</td>\n",
       "      <td>[nan, nan, nan, nan, nan, nan, nan, nan, 401.1...</td>\n",
       "      <td>[False, False, False, False, False, False, Fal...</td>\n",
       "      <td>[nan, nan, nan, nan, nan, nan, nan, 235.790161...</td>\n",
       "      <td>[False, False, False, False, False, False, Fal...</td>\n",
       "      <td>[0.333, 0.75, 2.0, 0.5, 0.333, 1.333, 66, 0.25...</td>\n",
       "      <td>&lt;pretty_midi.pretty_midi.PrettyMIDI object at ...</td>\n",
       "      <td>[[-1, -23, 0, 23, 32, 4, -1, 1, -4, 3, -34, 3,...</td>\n",
       "      <td>[[-1, 0, 0, 0, 1, 0, 0, 0, 0, 0, -4, 0, 0, 0, ...</td>\n",
       "    </tr>\n",
       "    <tr>\n",
       "      <th>1</th>\n",
       "      <td>4</td>\n",
       "      <td>10:15 saturday night</td>\n",
       "      <td>The Cure</td>\n",
       "      <td>The Cure</td>\n",
       "      <td>YES</td>\n",
       "      <td>1015sat</td>\n",
       "      <td>&lt;pretty_midi.pretty_midi.PrettyMIDI object at ...</td>\n",
       "      <td>[nan, nan, 70.91536696417685, nan, nan, nan, n...</td>\n",
       "      <td>[False, False, True, False, False, False, Fals...</td>\n",
       "      <td>[nan, nan, nan, nan, nan, nan, nan, nan, nan, ...</td>\n",
       "      <td>[False, False, False, False, False, False, Fal...</td>\n",
       "      <td>[4.0, 0.25, 1.0, 1.0, 1.0, 0.25, 0.5, 1.0, 1.5...</td>\n",
       "      <td>&lt;pretty_midi.pretty_midi.PrettyMIDI object at ...</td>\n",
       "      <td>[[3, -4, -2, 2, 2, 4, -6, -1, 1, 27, -1, -3, -...</td>\n",
       "      <td>[[0, 0, 0, -12, 0, 0, 7, -7, 0, 0, 0, -12, 0, ...</td>\n",
       "    </tr>\n",
       "  </tbody>\n",
       "</table>\n",
       "</div>"
      ],
      "text/plain": [
       "   Song ID                 Title    Artist Original artist Canonical  \\\n",
       "0        1     One hundred years  The Cure        The Cure       YES   \n",
       "1        4  10:15 saturday night  The Cure        The Cure       YES   \n",
       "\n",
       "  Class label                                        vocals_midi  \\\n",
       "0    100years  <pretty_midi.pretty_midi.PrettyMIDI object at ...   \n",
       "1     1015sat  <pretty_midi.pretty_midi.PrettyMIDI object at ...   \n",
       "\n",
       "                                           vocals_f0  \\\n",
       "0  [nan, nan, nan, nan, nan, nan, nan, nan, 401.1...   \n",
       "1  [nan, nan, 70.91536696417685, nan, nan, nan, n...   \n",
       "\n",
       "                               vocals_f0_voiced_flag  \\\n",
       "0  [False, False, False, False, False, False, Fal...   \n",
       "1  [False, False, True, False, False, False, Fals...   \n",
       "\n",
       "                                            other_f0  \\\n",
       "0  [nan, nan, nan, nan, nan, nan, nan, 235.790161...   \n",
       "1  [nan, nan, nan, nan, nan, nan, nan, nan, nan, ...   \n",
       "\n",
       "                                other_f0_voiced_flag  \\\n",
       "0  [False, False, False, False, False, False, Fal...   \n",
       "1  [False, False, False, False, False, False, Fal...   \n",
       "\n",
       "                                       vocals_metric  \\\n",
       "0  [0.333, 0.75, 2.0, 0.5, 0.333, 1.333, 66, 0.25...   \n",
       "1  [4.0, 0.25, 1.0, 1.0, 1.0, 0.25, 0.5, 1.0, 1.5...   \n",
       "\n",
       "                                    vocal_clean_midi  \\\n",
       "0  <pretty_midi.pretty_midi.PrettyMIDI object at ...   \n",
       "1  <pretty_midi.pretty_midi.PrettyMIDI object at ...   \n",
       "\n",
       "                               vocals_on_beat_melody  \\\n",
       "0  [[-1, -23, 0, 23, 32, 4, -1, 1, -4, 3, -34, 3,...   \n",
       "1  [[3, -4, -2, 2, 2, 4, -6, -1, 1, 27, -1, -3, -...   \n",
       "\n",
       "                                other_on_beat_melody  \n",
       "0  [[-1, 0, 0, 0, 1, 0, 0, 0, 0, 0, -4, 0, 0, 0, ...  \n",
       "1  [[0, 0, 0, -12, 0, 0, 7, -7, 0, 0, 0, -12, 0, ...  "
      ]
     },
     "execution_count": 54,
     "metadata": {},
     "output_type": "execute_result"
    }
   ],
   "source": [
    "songs_df.head(2)"
   ]
  },
  {
   "cell_type": "markdown",
   "id": "806e172d-4412-4b38-af0f-624349274dd1",
   "metadata": {},
   "source": [
    "### Extract Sets"
   ]
  },
  {
   "cell_type": "code",
   "execution_count": 55,
   "id": "62e16735-fcd5-4bb8-9a6b-f222278eac50",
   "metadata": {
    "tags": []
   },
   "outputs": [],
   "source": [
    "def get_ngram_from_list(input_list, n):\n",
    "    n_grams = ngrams(input_list, n)\n",
    "    return [' '.join(grams) for grams in n_grams]\n",
    "\n",
    "def get_n_gram_from_notes(notes, n):\n",
    "    result = []\n",
    "    l = len(notes)\n",
    "    for idx, note in enumerate(notes):\n",
    "        if(idx+1<l-1):\n",
    "            diff = notes[idx+1].pitch - note.pitch\n",
    "            diff = str(diff)\n",
    "            result.append(diff)\n",
    "    n_grams = ngrams(result, n)\n",
    "    return [' '.join(grams) for grams in n_grams]\n",
    "\n",
    "def get_midi_n_grams(midi, n):\n",
    "    result = []\n",
    "    for inst in midi.instruments:\n",
    "        if(not inst.is_drum):\n",
    "            n_grams = get_n_gram_from_notes(inst.notes,n)\n",
    "            result = result+n_grams\n",
    "    return result\n",
    "\n",
    "def get_n_grams(midi):\n",
    "    grams = get_midi_n_grams(midi,3)\n",
    "    return grams\n",
    "\n",
    "def get_multi_grams(set_list, from_n = 3, to_n=5):\n",
    "    result = []\n",
    "    for i in range(from_n, to_n+1):\n",
    "        result = result + get_ngram_from_list(set_list,i)\n",
    "    return result\n"
   ]
  },
  {
   "cell_type": "code",
   "execution_count": 56,
   "id": "4c43c977-4ec0-460a-9a5c-71a62d34bac1",
   "metadata": {
    "tags": []
   },
   "outputs": [],
   "source": [
    "set_pairs = set()"
   ]
  },
  {
   "cell_type": "code",
   "execution_count": 57,
   "id": "51630f42-1e89-48a0-872b-8f06730a35b8",
   "metadata": {
    "tags": []
   },
   "outputs": [],
   "source": [
    "def append_metric_set():\n",
    "    set_pairs.add((\"query_metric_set_5\",\"song_metric_set_5\"))\n",
    "    queries_df[\"query_metric_set_5\"] = queries_df[\"metric\"].apply(lambda x: get_multi_grams(x, 5, 5))\n",
    "    songs_df[\"song_metric_set_5\"] = songs_df[\"vocals_metric\"].apply(lambda x: get_multi_grams(x, 5, 5))\n",
    "\n",
    "append_metric_set()"
   ]
  },
  {
   "cell_type": "code",
   "execution_count": 58,
   "id": "c2a244b3-4dc1-4812-b676-1a1648edfb4b",
   "metadata": {
    "tags": []
   },
   "outputs": [],
   "source": [
    "def append_basic_midi_set():\n",
    "    set_pairs.add((\"query_basic_midi_set\",\"song_basic_midi_set\"))\n",
    "    queries_df[\"query_basic_midi_set\"] = queries_df[\"query_basic_midi\"].apply(lambda x: get_midi_n_grams(x,5))\n",
    "    songs_df[\"song_basic_midi_set\"] = songs_df[\"vocals_midi\"].apply(lambda x: get_midi_n_grams(x,5))\n",
    "append_basic_midi_set()"
   ]
  },
  {
   "cell_type": "code",
   "execution_count": 60,
   "id": "81ff9be9-c25d-482b-acf3-bec5b0515b80",
   "metadata": {
    "tags": []
   },
   "outputs": [],
   "source": [
    "def append_clean_midi_set():\n",
    "    set_pairs.add((\"query_clean_midi_set\",\"song_clean_midi_set\"))\n",
    "    queries_df[\"query_clean_midi_set\"] = queries_df[\"clean_midi_onset\"].apply(lambda x: get_midi_n_grams(x,5))\n",
    "    songs_df[\"song_clean_midi_set\"] = songs_df[\"vocal_clean_midi\"].apply(lambda x: get_midi_n_grams(x,5))\n",
    "append_clean_midi_set()"
   ]
  },
  {
   "cell_type": "code",
   "execution_count": 266,
   "id": "ca163f70-a2c8-4660-85d4-9d4442e34219",
   "metadata": {
    "tags": []
   },
   "outputs": [],
   "source": [
    "def get_ngram_from_on_beat_melody(x,  from_n, to_n):\n",
    "    result = []\n",
    "    for i in range(len(x)):\n",
    "        result = result + get_multi_grams([f'{i+1}L'+str(y) for y in x[i]], from_n, to_n)\n",
    "    return result\n",
    "\n",
    "def append_on_beat_set():\n",
    "    set_pairs.add((\"query_on_beat_grams_8_set\",\"song_on_beat_grams_8_set\"))\n",
    "    queries_df[\"query_on_beat_grams_8_set\"] = queries_df[\"on_beat_melody\"].apply(lambda x: get_ngram_from_on_beat_melody(x, 8, 8))\n",
    "    songs_df[\"vocals_song_on_beat_8_grams\"] = songs_df[\"vocals_on_beat_melody\"].apply(lambda x: get_ngram_from_on_beat_melody(x, 8, 8))\n",
    "    songs_df[\"other_on_beat_8_grams\"] = songs_df[\"other_on_beat_melody\"].apply(lambda x: get_ngram_from_on_beat_melody(x, 8, 8))\n",
    "    songs_df[\"song_on_beat_grams_8_set\"] =  songs_df[\"vocals_song_on_beat_8_grams\"]+ songs_df[\"other_on_beat_8_grams\"]\n",
    "append_on_beat_set()"
   ]
  },
  {
   "cell_type": "code",
   "execution_count": 275,
   "id": "11659dfd-e231-451d-bfe3-75e74bae1a74",
   "metadata": {
    "tags": []
   },
   "outputs": [],
   "source": [
    "def append_union_sets():\n",
    "    song_set_cols = ['song_on_beat_grams_8_set',\n",
    "                     'song_clean_midi_set',\n",
    "                     'song_basic_midi_set',\n",
    "                     'song_metric_set_5']\n",
    "    \n",
    "    query_set_cols = ['query_on_beat_grams_8_set',\n",
    "                      'query_clean_midi_set',\n",
    "                      'query_basic_midi_set',\n",
    "                      'query_metric_set_5']\n",
    "    \n",
    "    set_pairs.add((\"query_union_set\",\"song_union_set\"))\n",
    "    \n",
    "    songs_df[\"song_union_set\"] =  songs_df[song_set_cols[0]]\n",
    "    for i in range(1,len(song_set_cols)):\n",
    "         songs_df[\"song_union_set\"] =  songs_df[\"song_union_set\"]+songs_df[song_set_cols[i]]\n",
    "    \n",
    "    queries_df[\"query_union_set\"] = queries_df[query_set_cols[0]]\n",
    "    for i in range(1,len(query_set_cols)):\n",
    "         queries_df[\"query_union_set\"] =  queries_df[\"query_union_set\"]+queries_df[query_set_cols[i]]\n",
    "append_union_sets()    "
   ]
  },
  {
   "cell_type": "code",
   "execution_count": 276,
   "id": "b07d0c8d-723d-48cb-b298-4948e2310a87",
   "metadata": {
    "tags": []
   },
   "outputs": [
    {
     "name": "stdout",
     "output_type": "stream",
     "text": [
      "Pair:('query_basic_midi_set', 'song_basic_midi_set')\n",
      "query_mean_size: 55.5\n",
      "query_mean_set_size: 53.855932203389834\n",
      "song_mean_size: 414.48232848232846\n",
      "song_mean_set_size: 385.84407484407484\n",
      "query_terms_size: 5368\n",
      "song_set_terms_size: 130205\n",
      "inter_terms_size: 2713\n",
      "overlap_ratio: 0.5054023845007451\n",
      "----------\n",
      "Pair:('query_union_set', 'song_union_set')\n",
      "query_mean_size: 425.864406779661\n",
      "query_mean_set_size: 409.364406779661\n",
      "song_mean_size: 4446.444906444906\n",
      "song_mean_set_size: 3936.914760914761\n",
      "query_terms_size: 43872\n",
      "song_set_terms_size: 1444241\n",
      "inter_terms_size: 15384\n",
      "overlap_ratio: 0.3506564551422319\n",
      "----------\n",
      "Pair:('query_clean_midi_set', 'song_clean_midi_set')\n",
      "query_mean_size: 46.17796610169491\n",
      "query_mean_set_size: 44.610169491525426\n",
      "song_mean_size: 213.55717255717255\n",
      "song_mean_set_size: 201.44282744282745\n",
      "query_terms_size: 4336\n",
      "song_set_terms_size: 63443\n",
      "inter_terms_size: 2264\n",
      "overlap_ratio: 0.522140221402214\n",
      "----------\n",
      "Pair:('query_on_beat_grams_8_set', 'song_on_beat_grams_8_set')\n",
      "query_mean_size: 259.3813559322034\n",
      "query_mean_set_size: 254.72033898305085\n",
      "song_mean_size: 3474.985446985447\n",
      "song_mean_set_size: 3038.4428274428274\n",
      "query_terms_size: 28146\n",
      "song_set_terms_size: 1162134\n",
      "inter_terms_size: 6578\n",
      "overlap_ratio: 0.23370994102181483\n",
      "----------\n",
      "Pair:('query_metric_set_5', 'song_metric_set_5')\n",
      "query_mean_size: 64.80508474576271\n",
      "query_mean_set_size: 64.61864406779661\n",
      "song_mean_size: 343.41995841995845\n",
      "song_mean_set_size: 340.05613305613304\n",
      "query_terms_size: 7286\n",
      "song_set_terms_size: 107899\n",
      "inter_terms_size: 4044\n",
      "overlap_ratio: 0.5550370573702992\n",
      "----------\n"
     ]
    }
   ],
   "source": [
    "def preview(query_set, song_set):\n",
    "    query_set_terms = set(list(queries_df[query_set].explode()))\n",
    "    song_set_terms = set(list(songs_df[song_set].explode()))\n",
    "    inter = query_set_terms.intersection(song_set_terms)\n",
    "    \n",
    "    query_mean_size = queries_df[query_set].apply(lambda x: len(x)).mean()\n",
    "    query_mean_set_size = queries_df[query_set].apply(lambda x: len(set(x))).mean()\n",
    "    song_mean_size = songs_df[song_set].apply(lambda x: len(x)).mean()\n",
    "    song_mean_set_size = songs_df[song_set].apply(lambda x: len(set(x))).mean()\n",
    "    \n",
    "    return {\n",
    "        'query_mean_size':query_mean_size,\n",
    "        'query_mean_set_size':query_mean_set_size,\n",
    "        'song_mean_size':song_mean_size,\n",
    "        'song_mean_set_size':song_mean_set_size,\n",
    "        'query_terms_size':len(query_set_terms),\n",
    "        'song_set_terms_size':len(song_set_terms),\n",
    "        'inter_terms_size':len(inter),\n",
    "        'overlap_ratio':len(inter)/len(query_set_terms),\n",
    "    }\n",
    "\n",
    "for p in set_pairs:\n",
    "    r = preview(p[0],p[1])\n",
    "    print(f\"Pair:{p}\")\n",
    "    for key, val in r.items():\n",
    "        print(f\"{key}: {val}\")\n",
    "    print(\"----------\")"
   ]
  },
  {
   "cell_type": "markdown",
   "id": "04757a53-3c62-45b4-a8a7-c8b808da8fe0",
   "metadata": {},
   "source": [
    "## Evaluate"
   ]
  },
  {
   "cell_type": "code",
   "execution_count": 294,
   "id": "618011d3-ed53-474d-901f-4defccac0a9d",
   "metadata": {
    "tags": []
   },
   "outputs": [],
   "source": [
    "import hyperloglog\n",
    "import random\n",
    "from scipy import spatial\n",
    "import string\n",
    "import math\n",
    "\n",
    "\n",
    "def create_hll_from_list(l):\n",
    "    hll = hyperloglog.HyperLogLog(error_rate=0.005)\n",
    "    for item in l:\n",
    "        hll.add(item)\n",
    "    return hll\n",
    "\n",
    "def get_merged_hll(hll1, hll2):\n",
    "    m_hll = copy.copy(hll1)\n",
    "    m_hll.update(hll2)\n",
    "    return m_hll\n",
    "\n",
    "def estimate_overlapping_coef(hll1: hyperloglog.HyperLogLog, hll2):\n",
    "    card_1 = hll1.card()\n",
    "    card_2 = hll2.card()\n",
    "    m_hll = get_merged_hll(hll1, hll2)\n",
    "    union_card = m_hll.card()\n",
    "    return  (card_1+card_2-union_card)/min(card_1,card_2)\n",
    "def euclidean_hll(hll1: hyperloglog.HyperLogLog, hll2):\n",
    "    v1 = hll1.M\n",
    "    v2 = hll2.M\n",
    "    return spatial.distance.euclidean(v1, v2)\n",
    "\n",
    "def get_overlap_coef(a,b):\n",
    "    a_set = set(a)\n",
    "    b_set = set(b)\n",
    "    inter_set = a_set.intersection(b_set)\n",
    "    return len(inter_set)/min(len(a_set),len(b_set))\n",
    "\n",
    "def inner_product_hll(hll1: hyperloglog.HyperLogLog, hll2):\n",
    "    v1 = hll1.M\n",
    "    v2 = hll2.M\n",
    "    return np.inner(v1,v2)\n",
    "\n",
    "def get_index_of_song_in_query(cross_df, query_id,song_id, col_sim):\n",
    "    query_results = cross_df[cross_df[\"Query ID\"] == query_id]\n",
    "    query_results = query_results.sort_values(by=[col_sim], ascending=False)\n",
    "    list_results = query_results[\"Song ID\"].tolist()\n",
    "    if(song_id in list_results):\n",
    "        return list_results.index(song_id)+1\n",
    "    else:\n",
    "        return None\n",
    "    \n",
    "def inverse(num):\n",
    "    return 1.0/num\n",
    "\n",
    "def get_mrr(rank_list):\n",
    "    result = {}\n",
    "    ranks = rank_list[np.logical_not(np.isnan(rank_list))]\n",
    "    inverted_ranks = inverse(ranks)\n",
    "    result[\"mrr\"] = inverted_ranks.mean()\n",
    "    result[\"count\"] = len(inverted_ranks)\n",
    "    return result\n",
    "\n",
    "def run_experiment_overlapping_coef(queries_df, songs_df,queries_set_col, songs_set_col):\n",
    "    q_df = queries_df.copy()\n",
    "    s_df = songs_df.copy()\n",
    "    \n",
    "    q_df['query_hll'] = q_df[queries_set_col].apply(lambda x: create_hll_from_list(x))\n",
    "    s_df['song_hll'] = s_df[songs_set_col].apply(lambda x: create_hll_from_list(x))\n",
    "    \n",
    "    cross_df = q_df[[\"Query ID\",'query_hll',queries_set_col]].merge(s_df[[\"Song ID\",'song_hll',songs_set_col]], how=\"cross\")\n",
    "    cross_df[\"similarity\"] = cross_df.apply(lambda row: get_overlap_coef(row[queries_set_col], row[songs_set_col]), axis=1)\n",
    "    cross_df[\"similarity_hll\"] = cross_df.apply(lambda row: estimate_overlapping_coef(row['query_hll'], row['song_hll']), axis=1)\n",
    "    \n",
    "    q_df[\"index_search\"] = q_df.apply(lambda x: get_index_of_song_in_query(cross_df, x[\"Query ID\"], x[\"Song ID\"], 'similarity') , axis=1)\n",
    "    \n",
    "    q_df[\"index_search_hll\"] = q_df.apply(lambda x: get_index_of_song_in_query(cross_df, x[\"Query ID\"], x[\"Song ID\"],'similarity_hll') , axis=1)\n",
    "    \n",
    "    q_df.sort_values(by=\"index_search\")\n",
    "    result = {}\n",
    "    result['set_results'] = get_mrr(q_df[\"index_search\"])\n",
    "    result['hll_results'] = get_mrr(q_df[\"index_search_hll\"])\n",
    "    result['index_search_mean'] = q_df[\"index_search\"].mean()\n",
    "    result['index_search_hll_mean'] = q_df[\"index_search_hll\"].mean()\n",
    "    result[\"mean_song_set_size\"] = s_df[songs_set_col].apply(lambda x: len(x)).mean()\n",
    "    result[\"mean_query_set_size\"] = q_df[queries_set_col].apply(lambda x: len(x)).mean()\n",
    "    return result, q_df, cross_df\n"
   ]
  },
  {
   "cell_type": "code",
   "execution_count": 295,
   "id": "3fbe6b07-29bd-427d-96af-fb5d057e80fa",
   "metadata": {
    "tags": []
   },
   "outputs": [],
   "source": [
    "def get_songs_scores(query, song_id, terms, tf_df)-> float:\n",
    "    score = 0\n",
    "    for q in query:\n",
    "        if((song_id,q) in tf_df.index):\n",
    "            term_idf = terms.loc[q]['idf']\n",
    "            tf = tf_df.loc[(song_id,q)]['tf']\n",
    "            t_score = tf*term_idf\n",
    "            score = score + t_score\n",
    "    return score\n",
    "def run_experiment_tfidf(queries_df, songs_df,queries_set_col, songs_set_col):\n",
    "    q_df = queries_df.copy()\n",
    "    s_df = songs_df.copy()\n",
    "    \n",
    "    terms = s_df[[\"Song ID\",songs_set_col]].explode(songs_set_col)\n",
    "    terms.rename(columns={f'{songs_set_col}':'term'}, inplace=True)\n",
    "    terms = terms.groupby(\"term\").agg({'Song ID':['nunique']})\n",
    "    terms[\"doc_count\"] = terms[(\"Song ID\",\"nunique\")]\n",
    "    terms = terms[[\"doc_count\"]]\n",
    "    total_docs = len(s_df)\n",
    "    terms[\"idf\"] = terms[\"doc_count\"].apply(lambda x: math.log(total_docs/x))\n",
    "    \n",
    "    term_song = s_df[[\"Song ID\",songs_set_col]].explode(songs_set_col).rename(columns={f'{songs_set_col}':'term'})\n",
    "    tf_df = term_song.groupby([\"Song ID\",\"term\"]).size().to_frame('tf')\n",
    "    \n",
    "    \n",
    "    cross_df = q_df[[\"Query ID\",queries_set_col]].merge(s_df[[\"Song ID\",songs_set_col]], how=\"cross\")\n",
    "   \n",
    "    cross_df[\"similarity\"] = cross_df.apply(lambda row: get_songs_scores(row[queries_set_col], row['Song ID'],  terms, tf_df), axis=1).astype(float)\n",
    "    q_df[\"index_search\"] = q_df.apply(lambda x: get_index_of_song_in_query(cross_df, x[\"Query ID\"], x[\"Song ID\"], 'similarity') , axis=1)\n",
    "    \n",
    "    result = {}\n",
    "    result['set_results'] = get_mrr(q_df[\"index_search\"])\n",
    "    result['index_search_mean'] = q_df[\"index_search\"].mean()\n",
    "    result[\"mean_song_set_size\"] = s_df[songs_set_col].apply(lambda x: len(x)).mean()\n",
    "    result[\"mean_query_set_size\"] = q_df[queries_set_col].apply(lambda x: len(x)).mean()\n",
    "    return result, q_df, cross_df\n"
   ]
  },
  {
   "cell_type": "code",
   "execution_count": 283,
   "id": "ea28088d-42a1-4111-ba9e-93e17ce93c50",
   "metadata": {
    "tags": []
   },
   "outputs": [
    {
     "name": "stdout",
     "output_type": "stream",
     "text": [
      "Pair:('query_basic_midi_set', 'song_basic_midi_set')\n",
      "{'set_results': {'mrr': 0.13770366270606982, 'count': 118}, 'index_search_mean': 139.47457627118644, 'mean_song_set_size': 414.48232848232846, 'mean_query_set_size': 55.5}\n",
      "----------\n",
      "Pair:('query_union_set', 'song_union_set')\n",
      "{'set_results': {'mrr': 0.14506994506476412, 'count': 118}, 'index_search_mean': 127.16949152542372, 'mean_song_set_size': 4446.444906444906, 'mean_query_set_size': 425.864406779661}\n",
      "----------\n",
      "Pair:('query_clean_midi_set', 'song_clean_midi_set')\n",
      "{'set_results': {'mrr': 0.1373324027700253, 'count': 118}, 'index_search_mean': 140.96610169491527, 'mean_song_set_size': 213.55717255717255, 'mean_query_set_size': 46.17796610169491}\n",
      "----------\n",
      "Pair:('query_on_beat_grams_8_set', 'song_on_beat_grams_8_set')\n",
      "{'set_results': {'mrr': 0.03354480513589638, 'count': 118}, 'index_search_mean': 180.72033898305085, 'mean_song_set_size': 3474.985446985447, 'mean_query_set_size': 259.3813559322034}\n",
      "----------\n",
      "Pair:('query_metric_set_5', 'song_metric_set_5')\n",
      "{'set_results': {'mrr': 0.021889391936947566, 'count': 118}, 'index_search_mean': 226.79661016949152, 'mean_song_set_size': 343.41995841995845, 'mean_query_set_size': 64.80508474576271}\n",
      "----------\n"
     ]
    }
   ],
   "source": [
    "results_tf_idf = {}\n",
    "for p in set_pairs:\n",
    "    query_set_col = p[0]\n",
    "    song_set_col = p[1]\n",
    "    res = run_experiment_tfidf(queries_df, songs_df, query_set_col, song_set_col)\n",
    "    results_tf_idf[f\"{query_set_col} - {song_set_col}\"] = res\n",
    "    print(f\"Pair:{p}\")\n",
    "    print(res[0])\n",
    "    print(\"----------\")"
   ]
  },
  {
   "cell_type": "code",
   "execution_count": 284,
   "id": "8308552a-c143-4250-ac1d-35c0aa96d022",
   "metadata": {
    "tags": []
   },
   "outputs": [
    {
     "name": "stdout",
     "output_type": "stream",
     "text": [
      "Pair:('query_basic_midi_set', 'song_basic_midi_set')\n",
      "{'set_results': {'mrr': 0.12056979299271876, 'count': 118}, 'hll_results': {'mrr': 0.08739977958561158, 'count': 118}, 'index_search_mean': 138.5084745762712, 'index_search_hll_mean': 153.85593220338984, 'mean_song_set_size': 414.48232848232846, 'mean_query_set_size': 55.5}\n",
      "----------\n",
      "Pair:('query_union_set', 'song_union_set')\n",
      "{'set_results': {'mrr': 0.12377595871665971, 'count': 118}, 'hll_results': {'mrr': 0.04925468857735245, 'count': 118}, 'index_search_mean': 128.39830508474577, 'index_search_hll_mean': 178.48305084745763, 'mean_song_set_size': 4446.444906444906, 'mean_query_set_size': 425.864406779661}\n",
      "----------\n",
      "Pair:('query_clean_midi_set', 'song_clean_midi_set')\n",
      "{'set_results': {'mrr': 0.13662664318297812, 'count': 118}, 'hll_results': {'mrr': 0.09919161521779139, 'count': 118}, 'index_search_mean': 140.85593220338984, 'index_search_hll_mean': 160.53389830508473, 'mean_song_set_size': 213.55717255717255, 'mean_query_set_size': 46.17796610169491}\n",
      "----------\n",
      "Pair:('query_on_beat_grams_8_set', 'song_on_beat_grams_8_set')\n",
      "{'set_results': {'mrr': 0.05494510278041985, 'count': 118}, 'hll_results': {'mrr': 0.024994637973614956, 'count': 118}, 'index_search_mean': 176.5677966101695, 'index_search_hll_mean': 197.0593220338983, 'mean_song_set_size': 3474.985446985447, 'mean_query_set_size': 259.3813559322034}\n",
      "----------\n",
      "Pair:('query_metric_set_5', 'song_metric_set_5')\n",
      "{'set_results': {'mrr': 0.022695325407901146, 'count': 118}, 'hll_results': {'mrr': 0.010929036131048026, 'count': 118}, 'index_search_mean': 224.72881355932202, 'index_search_hll_mean': 244.27118644067798, 'mean_song_set_size': 343.41995841995845, 'mean_query_set_size': 64.80508474576271}\n",
      "----------\n"
     ]
    }
   ],
   "source": [
    "results = {}\n",
    "for p in set_pairs:\n",
    "    query_set_col = p[0]\n",
    "    song_set_col = p[1]\n",
    "    res = run_experiment_overlapping_coef(queries_df, songs_df,query_set_col, song_set_col)\n",
    "    results[f\"{query_set_col} - {song_set_col}\"] = res\n",
    "    print(f\"Pair:{p}\")\n",
    "    print(res[0])\n",
    "    print(\"----------\")"
   ]
  },
  {
   "cell_type": "code",
   "execution_count": 296,
   "id": "ef6dff28-5d81-4d9d-8a07-6d0450ba84c5",
   "metadata": {
    "tags": []
   },
   "outputs": [
    {
     "name": "stdout",
     "output_type": "stream",
     "text": [
      "Pair:('query_basic_midi_set', 'song_basic_midi_set')\n",
      "{'set_results': {'mrr': 0.12056979299271876, 'count': 118}, 'hll_results': {'mrr': 0.11728181281180777, 'count': 118}, 'index_search_mean': 138.5084745762712, 'index_search_hll_mean': 145.6864406779661, 'mean_song_set_size': 414.48232848232846, 'mean_query_set_size': 55.5}\n",
      "----------\n",
      "Pair:('query_union_set', 'song_union_set')\n",
      "{'set_results': {'mrr': 0.12377595871665971, 'count': 118}, 'hll_results': {'mrr': 0.07810770546180937, 'count': 118}, 'index_search_mean': 128.39830508474577, 'index_search_hll_mean': 157.53389830508473, 'mean_song_set_size': 4446.444906444906, 'mean_query_set_size': 425.864406779661}\n",
      "----------\n",
      "Pair:('query_clean_midi_set', 'song_clean_midi_set')\n",
      "{'set_results': {'mrr': 0.13662664318297812, 'count': 118}, 'hll_results': {'mrr': 0.12610554749900707, 'count': 118}, 'index_search_mean': 140.85593220338984, 'index_search_hll_mean': 150.65254237288136, 'mean_song_set_size': 213.55717255717255, 'mean_query_set_size': 46.17796610169491}\n",
      "----------\n",
      "Pair:('query_on_beat_grams_8_set', 'song_on_beat_grams_8_set')\n",
      "{'set_results': {'mrr': 0.05494510278041985, 'count': 118}, 'hll_results': {'mrr': 0.05188919902932634, 'count': 118}, 'index_search_mean': 176.5677966101695, 'index_search_hll_mean': 181.96610169491527, 'mean_song_set_size': 3474.985446985447, 'mean_query_set_size': 259.3813559322034}\n",
      "----------\n",
      "Pair:('query_metric_set_5', 'song_metric_set_5')\n",
      "{'set_results': {'mrr': 0.022695325407901146, 'count': 118}, 'hll_results': {'mrr': 0.013354707387163746, 'count': 118}, 'index_search_mean': 224.72881355932202, 'index_search_hll_mean': 238.48305084745763, 'mean_song_set_size': 343.41995841995845, 'mean_query_set_size': 64.80508474576271}\n",
      "----------\n"
     ]
    }
   ],
   "source": [
    "results_hll_2Z5 = {}\n",
    "for p in set_pairs:\n",
    "    query_set_col = p[0]\n",
    "    song_set_col = p[1]\n",
    "    res = run_experiment_overlapping_coef(queries_df, songs_df,query_set_col, song_set_col)\n",
    "    results_hll_2Z5[f\"{query_set_col} - {song_set_col}\"] = res\n",
    "    print(f\"Pair:{p}\")\n",
    "    print(res[0])\n",
    "    print(\"----------\")"
   ]
  }
 ],
 "metadata": {
  "kernelspec": {
   "display_name": "Python 3 (ipykernel)",
   "language": "python",
   "name": "python3"
  },
  "language_info": {
   "codemirror_mode": {
    "name": "ipython",
    "version": 3
   },
   "file_extension": ".py",
   "mimetype": "text/x-python",
   "name": "python",
   "nbconvert_exporter": "python",
   "pygments_lexer": "ipython3",
   "version": "3.11.5"
  }
 },
 "nbformat": 4,
 "nbformat_minor": 5
}

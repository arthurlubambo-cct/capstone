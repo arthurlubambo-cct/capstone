{
 "cells": [
  {
   "cell_type": "code",
   "execution_count": 1,
   "id": "2fdb75c5-edde-47d9-aa78-e1bdcc32a88e",
   "metadata": {
    "tags": []
   },
   "outputs": [],
   "source": [
    "import pandas as pd\n",
    "import nltk\n",
    "from nltk.util import ngrams"
   ]
  },
  {
   "cell_type": "code",
   "execution_count": 67,
   "id": "198bebf8-776f-40eb-8ff7-558b9b4057c2",
   "metadata": {
    "tags": []
   },
   "outputs": [],
   "source": [
    "queries_sequence_df = pd.read_pickle(\"./queries_sequence_df.pkl\")\n",
    "songs_sequence_df = pd.read_pickle(\"./songs_sequence_df.pkl\")"
   ]
  },
  {
   "cell_type": "code",
   "execution_count": 68,
   "id": "c78dc324-935e-4b9d-9dbe-6c894828c86c",
   "metadata": {
    "tags": []
   },
   "outputs": [],
   "source": [
    "encoding_types_cols = ['pitch_diff','UpSameDown']"
   ]
  },
  {
   "cell_type": "markdown",
   "id": "f8d9b610-9438-4a1f-a532-6d1816e1b1fd",
   "metadata": {},
   "source": [
    "## Append Ngrams Sets"
   ]
  },
  {
   "cell_type": "code",
   "execution_count": 69,
   "id": "11fee3c8-513c-4cde-a850-d9cd7ae966ff",
   "metadata": {
    "tags": []
   },
   "outputs": [],
   "source": [
    "def create_n_gram_set_from_encoding(seq, n):\n",
    "    n_grams = ngrams(seq, n)\n",
    "    n_grams = [str(x) for x in n_grams]\n",
    "    return list(n_grams)"
   ]
  },
  {
   "cell_type": "code",
   "execution_count": 70,
   "id": "61978000-7d4c-4a66-8f65-b186377b5330",
   "metadata": {
    "tags": []
   },
   "outputs": [],
   "source": [
    "ngrams_size = [5,8,10,12] \n",
    "for n in ngrams_size:\n",
    "    for encoding_col in encoding_types_cols:\n",
    "        result_col = f'{encoding_col}-ngram_{n}_set'\n",
    "        queries_sequence_df[result_col] = queries_sequence_df[encoding_col].apply(lambda x: create_n_gram_set_from_encoding(x,n))\n",
    "        songs_sequence_df[result_col] = songs_sequence_df[encoding_col].apply(lambda x: create_n_gram_set_from_encoding(x,n))\n"
   ]
  },
  {
   "cell_type": "markdown",
   "id": "247c79c7-8162-4ca9-8ec1-bcf622961227",
   "metadata": {},
   "source": [
    "## Append Multi Gram"
   ]
  },
  {
   "cell_type": "code",
   "execution_count": 74,
   "id": "4fdbde77-f47f-4000-8b3f-2f9da58f0ac0",
   "metadata": {
    "tags": []
   },
   "outputs": [],
   "source": [
    "def get_multi_gram(seq, from_n = 3, to_n=5):\n",
    "    result = []\n",
    "    for i in range(from_n, to_n+1):\n",
    "        result = result + create_n_gram_set_from_encoding(seq,i)\n",
    "    return result\n"
   ]
  },
  {
   "cell_type": "code",
   "execution_count": 75,
   "id": "09a02071-e15a-4b2c-8bc8-73cc47e7549a",
   "metadata": {
    "tags": []
   },
   "outputs": [],
   "source": [
    "multi_gram_configs = [(5,10)] \n",
    "for p in multi_gram_configs:\n",
    "    for encoding_col in encoding_types_cols:\n",
    "        result_col = f'{encoding_col}-multi_gram_{p[0]}_{p[1]}_set'\n",
    "        queries_sequence_df[result_col] = queries_sequence_df[encoding_col].apply(lambda x: get_multi_gram(x,p[0],p[1]))\n",
    "        songs_sequence_df[result_col] = songs_sequence_df[encoding_col].apply(lambda x: get_multi_gram(x,p[0],p[1]))"
   ]
  },
  {
   "cell_type": "markdown",
   "id": "0ebbed49-f9d0-445f-adb4-34a1857a27e7",
   "metadata": {
    "tags": []
   },
   "source": [
    "## Save Sets"
   ]
  },
  {
   "cell_type": "code",
   "execution_count": 80,
   "id": "3e84f966-8654-4771-bc62-9193401b0e15",
   "metadata": {
    "tags": []
   },
   "outputs": [],
   "source": [
    "cols = queries_sequence_df.columns\n",
    "set_cols = list(filter(lambda x: x.endswith(\"_set\"), cols))\n",
    "\n",
    "for c in set_cols:\n",
    "    queries_sequence_df[c] = queries_sequence_df[c].apply(lambda x: set(x))\n",
    "    songs_sequence_df[c] = songs_sequence_df[c].apply(lambda x: set(x))\n"
   ]
  },
  {
   "cell_type": "code",
   "execution_count": 84,
   "id": "7e491c46-28f6-4737-a5d5-fff90d53cacb",
   "metadata": {
    "tags": []
   },
   "outputs": [],
   "source": [
    "queries_sequence_df[['Query ID','Song ID']+set_cols].to_pickle(\"./queries_sets.pkl\")"
   ]
  },
  {
   "cell_type": "code",
   "execution_count": 85,
   "id": "bc86aa3d-d3c0-43a6-ae7c-e8639f7fd66c",
   "metadata": {
    "tags": []
   },
   "outputs": [],
   "source": [
    "songs_sequence_df[['Song ID']+set_cols].to_pickle(\"./songs_sets.pkl\")"
   ]
  },
  {
   "cell_type": "code",
   "execution_count": 89,
   "id": "d5d91a60-82f0-485f-aa68-96d242f63350",
   "metadata": {
    "tags": []
   },
   "outputs": [],
   "source": [
    "for c in set_cols:\n",
    "    queries_sequence_df[f\"{c}_len\"] = queries_sequence_df[c].apply(lambda x: len(x))\n",
    "    songs_sequence_df[f\"{c}_len\"] = songs_sequence_df[c].apply(lambda x: len(x))"
   ]
  },
  {
   "cell_type": "code",
   "execution_count": null,
   "id": "f3dedc9c-f030-49dd-8010-bbd01da84069",
   "metadata": {},
   "outputs": [],
   "source": []
  }
 ],
 "metadata": {
  "kernelspec": {
   "display_name": "Python 3 (ipykernel)",
   "language": "python",
   "name": "python3"
  },
  "language_info": {
   "codemirror_mode": {
    "name": "ipython",
    "version": 3
   },
   "file_extension": ".py",
   "mimetype": "text/x-python",
   "name": "python",
   "nbconvert_exporter": "python",
   "pygments_lexer": "ipython3",
   "version": "3.11.5"
  }
 },
 "nbformat": 4,
 "nbformat_minor": 5
}

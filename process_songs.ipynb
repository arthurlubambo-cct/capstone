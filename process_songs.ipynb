{
 "cells": [
  {
   "cell_type": "code",
   "execution_count": 3,
   "id": "dce9c0b5-e5fc-40fa-9af8-b47443b1ba9d",
   "metadata": {
    "tags": []
   },
   "outputs": [],
   "source": [
    "import pandas as pd\n"
   ]
  },
  {
   "cell_type": "code",
   "execution_count": 4,
   "id": "e24e7916-9838-437e-bac9-7e4c4ec1ba96",
   "metadata": {
    "tags": []
   },
   "outputs": [
    {
     "data": {
      "text/html": [
       "<div>\n",
       "<style scoped>\n",
       "    .dataframe tbody tr th:only-of-type {\n",
       "        vertical-align: middle;\n",
       "    }\n",
       "\n",
       "    .dataframe tbody tr th {\n",
       "        vertical-align: top;\n",
       "    }\n",
       "\n",
       "    .dataframe thead th {\n",
       "        text-align: right;\n",
       "    }\n",
       "</style>\n",
       "<table border=\"1\" class=\"dataframe\">\n",
       "  <thead>\n",
       "    <tr style=\"text-align: right;\">\n",
       "      <th></th>\n",
       "      <th>Song ID</th>\n",
       "      <th>Title</th>\n",
       "      <th>Artist</th>\n",
       "      <th>Original artist</th>\n",
       "      <th>Canonical</th>\n",
       "      <th>Class label</th>\n",
       "    </tr>\n",
       "  </thead>\n",
       "  <tbody>\n",
       "    <tr>\n",
       "      <th>0</th>\n",
       "      <td>1</td>\n",
       "      <td>One hundred years</td>\n",
       "      <td>The Cure</td>\n",
       "      <td>The Cure</td>\n",
       "      <td>YES</td>\n",
       "      <td>100years</td>\n",
       "    </tr>\n",
       "    <tr>\n",
       "      <th>1</th>\n",
       "      <td>4</td>\n",
       "      <td>10:15 saturday night</td>\n",
       "      <td>The Cure</td>\n",
       "      <td>The Cure</td>\n",
       "      <td>YES</td>\n",
       "      <td>1015sat</td>\n",
       "    </tr>\n",
       "    <tr>\n",
       "      <th>2</th>\n",
       "      <td>7</td>\n",
       "      <td>Seventeen seconds</td>\n",
       "      <td>The Cure</td>\n",
       "      <td>The Cure</td>\n",
       "      <td>YES</td>\n",
       "      <td>17secs</td>\n",
       "    </tr>\n",
       "    <tr>\n",
       "      <th>3</th>\n",
       "      <td>14</td>\n",
       "      <td>Dos gardenias</td>\n",
       "      <td>Antonio Machin</td>\n",
       "      <td>Bobby Capo</td>\n",
       "      <td>YES</td>\n",
       "      <td>2gardeni</td>\n",
       "    </tr>\n",
       "    <tr>\n",
       "      <th>4</th>\n",
       "      <td>15</td>\n",
       "      <td>Six different ways</td>\n",
       "      <td>The Cure</td>\n",
       "      <td>The Cure</td>\n",
       "      <td>YES</td>\n",
       "      <td>6different</td>\n",
       "    </tr>\n",
       "  </tbody>\n",
       "</table>\n",
       "</div>"
      ],
      "text/plain": [
       "   Song ID                 Title          Artist Original artist Canonical  \\\n",
       "0        1     One hundred years        The Cure        The Cure       YES   \n",
       "1        4  10:15 saturday night        The Cure        The Cure       YES   \n",
       "2        7     Seventeen seconds        The Cure        The Cure       YES   \n",
       "3       14         Dos gardenias  Antonio Machin      Bobby Capo       YES   \n",
       "4       15    Six different ways        The Cure        The Cure       YES   \n",
       "\n",
       "  Class label  \n",
       "0    100years  \n",
       "1     1015sat  \n",
       "2      17secs  \n",
       "3    2gardeni  \n",
       "4  6different  "
      ]
     },
     "execution_count": 4,
     "metadata": {},
     "output_type": "execute_result"
    }
   ],
   "source": [
    "songs_df = pd.read_csv(\"./MTG-QBH/metadata/Collection_Canonicals.csv\", encoding='latin1')\n",
    "songs_df.head()"
   ]
  },
  {
   "cell_type": "code",
   "execution_count": 18,
   "id": "1ab14c35-bc24-4443-8fe2-97f394198877",
   "metadata": {
    "tags": []
   },
   "outputs": [
    {
     "data": {
      "text/html": [
       "<div>\n",
       "<style scoped>\n",
       "    .dataframe tbody tr th:only-of-type {\n",
       "        vertical-align: middle;\n",
       "    }\n",
       "\n",
       "    .dataframe tbody tr th {\n",
       "        vertical-align: top;\n",
       "    }\n",
       "\n",
       "    .dataframe thead th {\n",
       "        text-align: right;\n",
       "    }\n",
       "</style>\n",
       "<table border=\"1\" class=\"dataframe\">\n",
       "  <thead>\n",
       "    <tr style=\"text-align: right;\">\n",
       "      <th></th>\n",
       "      <th>Song ID</th>\n",
       "      <th>Title</th>\n",
       "      <th>Artist</th>\n",
       "      <th>Original artist</th>\n",
       "      <th>Canonical</th>\n",
       "      <th>Class label</th>\n",
       "    </tr>\n",
       "  </thead>\n",
       "  <tbody>\n",
       "    <tr>\n",
       "      <th>166</th>\n",
       "      <td>807</td>\n",
       "      <td>Interstellar overdrive</td>\n",
       "      <td>Pink Floyd</td>\n",
       "      <td>Pink Floyd</td>\n",
       "      <td>YES</td>\n",
       "      <td>interstellar</td>\n",
       "    </tr>\n",
       "  </tbody>\n",
       "</table>\n",
       "</div>"
      ],
      "text/plain": [
       "     Song ID                   Title      Artist Original artist Canonical  \\\n",
       "166      807  Interstellar overdrive  Pink Floyd      Pink Floyd       YES   \n",
       "\n",
       "      Class label  \n",
       "166  interstellar  "
      ]
     },
     "execution_count": 18,
     "metadata": {},
     "output_type": "execute_result"
    }
   ],
   "source": [
    "songs_df[songs_df['Song ID'] == 807] "
   ]
  },
  {
   "cell_type": "code",
   "execution_count": 17,
   "id": "fc5af317-f199-4e58-a92d-2137fddcbbbc",
   "metadata": {
    "tags": []
   },
   "outputs": [
    {
     "data": {
      "text/plain": [
       "(481, 6)"
      ]
     },
     "execution_count": 17,
     "metadata": {},
     "output_type": "execute_result"
    }
   ],
   "source": [
    "songs_df.shape"
   ]
  },
  {
   "cell_type": "code",
   "execution_count": 18,
   "id": "93f406e9-8ddb-4c1b-a3cb-6935cc800553",
   "metadata": {
    "tags": []
   },
   "outputs": [],
   "source": [
    "from basic_pitch.inference import predict\n",
    "from basic_pitch import ICASSP_2022_MODEL_PATH\n",
    "\n",
    "# FUNCTIONS\n",
    "def get_song_vocals_midi(song_id):\n",
    "    model_output, vocal_midi_data, note_events = predict(f\"output/htdemucs/{song_id}/vocals.wav\")\n",
    "    return vocal_midi_data\n",
    "\n",
    "def append_vocals_midi(df):\n",
    "    df[\"vocals_midi\"] = df[\"Song ID\"].apply(lambda x: get_song_vocals_midi(str(x)))\n",
    "    return df"
   ]
  },
  {
   "cell_type": "code",
   "execution_count": null,
   "id": "80f01be7-0174-476b-8669-6e5718391dad",
   "metadata": {
    "tags": []
   },
   "outputs": [],
   "source": [
    "%%capture\n",
    "songs_df = append_vocals_midi(songs_df)\n",
    "songs_df.to_pickle(\"./songs_with_midi.pkl\")"
   ]
  },
  {
   "cell_type": "code",
   "execution_count": null,
   "id": "2a895650-206b-4aff-ab95-9680d5e9105e",
   "metadata": {
    "tags": []
   },
   "outputs": [],
   "source": [
    "songs_df = pd.read_pickle(\"./songs_with_midi.pkl\")"
   ]
  },
  {
   "cell_type": "code",
   "execution_count": null,
   "id": "03a565c0-68b9-4054-ba00-efae151040f9",
   "metadata": {
    "tags": []
   },
   "outputs": [],
   "source": [
    "songs_df.shape"
   ]
  },
  {
   "cell_type": "code",
   "execution_count": null,
   "id": "85506d4b-1f2e-4d02-9f13-6b82f080a1a1",
   "metadata": {},
   "outputs": [],
   "source": []
  }
 ],
 "metadata": {
  "kernelspec": {
   "display_name": "Python 3 (ipykernel)",
   "language": "python",
   "name": "python3"
  },
  "language_info": {
   "codemirror_mode": {
    "name": "ipython",
    "version": 3
   },
   "file_extension": ".py",
   "mimetype": "text/x-python",
   "name": "python",
   "nbconvert_exporter": "python",
   "pygments_lexer": "ipython3",
   "version": "3.11.4"
  }
 },
 "nbformat": 4,
 "nbformat_minor": 5
}

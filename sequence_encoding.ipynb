{
 "cells": [
  {
   "cell_type": "code",
   "execution_count": 2,
   "id": "2fdb75c5-edde-47d9-aa78-e1bdcc32a88e",
   "metadata": {
    "tags": []
   },
   "outputs": [],
   "source": [
    "import pandas as pd\n",
    "import pretty_midi"
   ]
  },
  {
   "cell_type": "code",
   "execution_count": 2,
   "id": "198bebf8-776f-40eb-8ff7-558b9b4057c2",
   "metadata": {
    "tags": []
   },
   "outputs": [],
   "source": [
    "queries_df = pd.read_pickle(\"./queries_clean_overlap_notes.pkl\")\n",
    "songs_df = pd.read_pickle(\"./songs_clean_overlap_notes.pkl\")"
   ]
  },
  {
   "cell_type": "code",
   "execution_count": 28,
   "id": "d220b8d7-5a75-4090-aa45-e5b4cf64bd32",
   "metadata": {
    "tags": []
   },
   "outputs": [],
   "source": [
    "song_sequence_encoding_df = songs_df[['Song ID','clean_overlap_vocals_notes_midi']].copy()"
   ]
  },
  {
   "cell_type": "code",
   "execution_count": 29,
   "id": "55935ac6-f26d-482f-9e2a-8fdc27c52360",
   "metadata": {
    "tags": []
   },
   "outputs": [
    {
     "data": {
      "text/html": [
       "<div>\n",
       "<style scoped>\n",
       "    .dataframe tbody tr th:only-of-type {\n",
       "        vertical-align: middle;\n",
       "    }\n",
       "\n",
       "    .dataframe tbody tr th {\n",
       "        vertical-align: top;\n",
       "    }\n",
       "\n",
       "    .dataframe thead th {\n",
       "        text-align: right;\n",
       "    }\n",
       "</style>\n",
       "<table border=\"1\" class=\"dataframe\">\n",
       "  <thead>\n",
       "    <tr style=\"text-align: right;\">\n",
       "      <th></th>\n",
       "      <th>Song ID</th>\n",
       "      <th>clean_overlap_vocals_notes_midi</th>\n",
       "    </tr>\n",
       "  </thead>\n",
       "  <tbody>\n",
       "    <tr>\n",
       "      <th>0</th>\n",
       "      <td>1</td>\n",
       "      <td>&lt;pretty_midi.pretty_midi.PrettyMIDI object at ...</td>\n",
       "    </tr>\n",
       "    <tr>\n",
       "      <th>1</th>\n",
       "      <td>4</td>\n",
       "      <td>&lt;pretty_midi.pretty_midi.PrettyMIDI object at ...</td>\n",
       "    </tr>\n",
       "    <tr>\n",
       "      <th>2</th>\n",
       "      <td>7</td>\n",
       "      <td>&lt;pretty_midi.pretty_midi.PrettyMIDI object at ...</td>\n",
       "    </tr>\n",
       "    <tr>\n",
       "      <th>3</th>\n",
       "      <td>14</td>\n",
       "      <td>&lt;pretty_midi.pretty_midi.PrettyMIDI object at ...</td>\n",
       "    </tr>\n",
       "    <tr>\n",
       "      <th>4</th>\n",
       "      <td>15</td>\n",
       "      <td>&lt;pretty_midi.pretty_midi.PrettyMIDI object at ...</td>\n",
       "    </tr>\n",
       "  </tbody>\n",
       "</table>\n",
       "</div>"
      ],
      "text/plain": [
       "   Song ID                    clean_overlap_vocals_notes_midi\n",
       "0        1  <pretty_midi.pretty_midi.PrettyMIDI object at ...\n",
       "1        4  <pretty_midi.pretty_midi.PrettyMIDI object at ...\n",
       "2        7  <pretty_midi.pretty_midi.PrettyMIDI object at ...\n",
       "3       14  <pretty_midi.pretty_midi.PrettyMIDI object at ...\n",
       "4       15  <pretty_midi.pretty_midi.PrettyMIDI object at ..."
      ]
     },
     "execution_count": 29,
     "metadata": {},
     "output_type": "execute_result"
    }
   ],
   "source": [
    "song_sequence_encoding_df.head()"
   ]
  },
  {
   "cell_type": "code",
   "execution_count": 30,
   "id": "605dcf9d-11fe-4cc2-a669-d8252b3d35a2",
   "metadata": {
    "tags": []
   },
   "outputs": [],
   "source": [
    "def midi_to_notes_list(midi: pretty_midi.PrettyMIDI):\n",
    "    notes = []\n",
    "    for inst in midi.instruments:\n",
    "        if(not inst.is_drum):\n",
    "            notes = notes+inst.notes\n",
    "    return sorted(notes, key=lambda x: x.start)"
   ]
  },
  {
   "cell_type": "code",
   "execution_count": 31,
   "id": "1a711e86-d05e-49f5-9539-076aed8ec710",
   "metadata": {
    "tags": []
   },
   "outputs": [],
   "source": [
    "song_sequence_encoding_df['notes']= song_sequence_encoding_df['clean_overlap_vocals_notes_midi'].apply(midi_to_notes_list)"
   ]
  },
  {
   "cell_type": "code",
   "execution_count": 32,
   "id": "f182d50f-4a85-4e9c-b189-4a32da83c97a",
   "metadata": {
    "tags": []
   },
   "outputs": [
    {
     "data": {
      "text/html": [
       "<div>\n",
       "<style scoped>\n",
       "    .dataframe tbody tr th:only-of-type {\n",
       "        vertical-align: middle;\n",
       "    }\n",
       "\n",
       "    .dataframe tbody tr th {\n",
       "        vertical-align: top;\n",
       "    }\n",
       "\n",
       "    .dataframe thead th {\n",
       "        text-align: right;\n",
       "    }\n",
       "</style>\n",
       "<table border=\"1\" class=\"dataframe\">\n",
       "  <thead>\n",
       "    <tr style=\"text-align: right;\">\n",
       "      <th></th>\n",
       "      <th>Song ID</th>\n",
       "      <th>clean_overlap_vocals_notes_midi</th>\n",
       "      <th>notes</th>\n",
       "    </tr>\n",
       "  </thead>\n",
       "  <tbody>\n",
       "    <tr>\n",
       "      <th>0</th>\n",
       "      <td>1</td>\n",
       "      <td>&lt;pretty_midi.pretty_midi.PrettyMIDI object at ...</td>\n",
       "      <td>[Note(start=0.000000, end=0.150930, pitch=61, ...</td>\n",
       "    </tr>\n",
       "    <tr>\n",
       "      <th>1</th>\n",
       "      <td>4</td>\n",
       "      <td>&lt;pretty_midi.pretty_midi.PrettyMIDI object at ...</td>\n",
       "      <td>[Note(start=0.000000, end=0.535343, pitch=31, ...</td>\n",
       "    </tr>\n",
       "    <tr>\n",
       "      <th>2</th>\n",
       "      <td>7</td>\n",
       "      <td>&lt;pretty_midi.pretty_midi.PrettyMIDI object at ...</td>\n",
       "      <td>[Note(start=0.000000, end=0.197370, pitch=40, ...</td>\n",
       "    </tr>\n",
       "    <tr>\n",
       "      <th>3</th>\n",
       "      <td>14</td>\n",
       "      <td>&lt;pretty_midi.pretty_midi.PrettyMIDI object at ...</td>\n",
       "      <td>[Note(start=0.000000, end=0.278639, pitch=60, ...</td>\n",
       "    </tr>\n",
       "    <tr>\n",
       "      <th>4</th>\n",
       "      <td>15</td>\n",
       "      <td>&lt;pretty_midi.pretty_midi.PrettyMIDI object at ...</td>\n",
       "      <td>[Note(start=0.000000, end=1.301601, pitch=72, ...</td>\n",
       "    </tr>\n",
       "  </tbody>\n",
       "</table>\n",
       "</div>"
      ],
      "text/plain": [
       "   Song ID                    clean_overlap_vocals_notes_midi  \\\n",
       "0        1  <pretty_midi.pretty_midi.PrettyMIDI object at ...   \n",
       "1        4  <pretty_midi.pretty_midi.PrettyMIDI object at ...   \n",
       "2        7  <pretty_midi.pretty_midi.PrettyMIDI object at ...   \n",
       "3       14  <pretty_midi.pretty_midi.PrettyMIDI object at ...   \n",
       "4       15  <pretty_midi.pretty_midi.PrettyMIDI object at ...   \n",
       "\n",
       "                                               notes  \n",
       "0  [Note(start=0.000000, end=0.150930, pitch=61, ...  \n",
       "1  [Note(start=0.000000, end=0.535343, pitch=31, ...  \n",
       "2  [Note(start=0.000000, end=0.197370, pitch=40, ...  \n",
       "3  [Note(start=0.000000, end=0.278639, pitch=60, ...  \n",
       "4  [Note(start=0.000000, end=1.301601, pitch=72, ...  "
      ]
     },
     "execution_count": 32,
     "metadata": {},
     "output_type": "execute_result"
    }
   ],
   "source": [
    "song_sequence_encoding_df.head()"
   ]
  },
  {
   "cell_type": "code",
   "execution_count": 35,
   "id": "2372995b-3113-4378-90a8-09eceef21a08",
   "metadata": {
    "tags": []
   },
   "outputs": [],
   "source": [
    "queries_sequence_encoding_df = queries_df[['Query ID','Song ID','clean_overlap_notes_midi']].copy()"
   ]
  },
  {
   "cell_type": "code",
   "execution_count": 36,
   "id": "e32a475f-2b6a-4f6e-812d-f4734a05a78a",
   "metadata": {
    "tags": []
   },
   "outputs": [
    {
     "data": {
      "text/html": [
       "<div>\n",
       "<style scoped>\n",
       "    .dataframe tbody tr th:only-of-type {\n",
       "        vertical-align: middle;\n",
       "    }\n",
       "\n",
       "    .dataframe tbody tr th {\n",
       "        vertical-align: top;\n",
       "    }\n",
       "\n",
       "    .dataframe thead th {\n",
       "        text-align: right;\n",
       "    }\n",
       "</style>\n",
       "<table border=\"1\" class=\"dataframe\">\n",
       "  <thead>\n",
       "    <tr style=\"text-align: right;\">\n",
       "      <th></th>\n",
       "      <th>Query ID</th>\n",
       "      <th>Song ID</th>\n",
       "      <th>clean_overlap_notes_midi</th>\n",
       "    </tr>\n",
       "  </thead>\n",
       "  <tbody>\n",
       "    <tr>\n",
       "      <th>0</th>\n",
       "      <td>q1</td>\n",
       "      <td>1118</td>\n",
       "      <td>&lt;pretty_midi.pretty_midi.PrettyMIDI object at ...</td>\n",
       "    </tr>\n",
       "    <tr>\n",
       "      <th>1</th>\n",
       "      <td>q2</td>\n",
       "      <td>1438</td>\n",
       "      <td>&lt;pretty_midi.pretty_midi.PrettyMIDI object at ...</td>\n",
       "    </tr>\n",
       "    <tr>\n",
       "      <th>2</th>\n",
       "      <td>q3</td>\n",
       "      <td>1546</td>\n",
       "      <td>&lt;pretty_midi.pretty_midi.PrettyMIDI object at ...</td>\n",
       "    </tr>\n",
       "    <tr>\n",
       "      <th>3</th>\n",
       "      <td>q4</td>\n",
       "      <td>1579</td>\n",
       "      <td>&lt;pretty_midi.pretty_midi.PrettyMIDI object at ...</td>\n",
       "    </tr>\n",
       "    <tr>\n",
       "      <th>4</th>\n",
       "      <td>q5</td>\n",
       "      <td>1808</td>\n",
       "      <td>&lt;pretty_midi.pretty_midi.PrettyMIDI object at ...</td>\n",
       "    </tr>\n",
       "  </tbody>\n",
       "</table>\n",
       "</div>"
      ],
      "text/plain": [
       "  Query ID  Song ID                           clean_overlap_notes_midi\n",
       "0       q1     1118  <pretty_midi.pretty_midi.PrettyMIDI object at ...\n",
       "1       q2     1438  <pretty_midi.pretty_midi.PrettyMIDI object at ...\n",
       "2       q3     1546  <pretty_midi.pretty_midi.PrettyMIDI object at ...\n",
       "3       q4     1579  <pretty_midi.pretty_midi.PrettyMIDI object at ...\n",
       "4       q5     1808  <pretty_midi.pretty_midi.PrettyMIDI object at ..."
      ]
     },
     "execution_count": 36,
     "metadata": {},
     "output_type": "execute_result"
    }
   ],
   "source": [
    "queries_sequence_encoding_df.head()"
   ]
  },
  {
   "cell_type": "code",
   "execution_count": 37,
   "id": "5cfd38e8-fc58-4a87-91a9-0c53eb7525e8",
   "metadata": {
    "tags": []
   },
   "outputs": [],
   "source": [
    "queries_sequence_encoding_df['notes'] = queries_sequence_encoding_df['clean_overlap_notes_midi'].apply(midi_to_notes_list)"
   ]
  },
  {
   "cell_type": "code",
   "execution_count": 38,
   "id": "2ed6279c-9209-4a7b-869f-a8540dabe020",
   "metadata": {
    "tags": []
   },
   "outputs": [
    {
     "data": {
      "text/html": [
       "<div>\n",
       "<style scoped>\n",
       "    .dataframe tbody tr th:only-of-type {\n",
       "        vertical-align: middle;\n",
       "    }\n",
       "\n",
       "    .dataframe tbody tr th {\n",
       "        vertical-align: top;\n",
       "    }\n",
       "\n",
       "    .dataframe thead th {\n",
       "        text-align: right;\n",
       "    }\n",
       "</style>\n",
       "<table border=\"1\" class=\"dataframe\">\n",
       "  <thead>\n",
       "    <tr style=\"text-align: right;\">\n",
       "      <th></th>\n",
       "      <th>Query ID</th>\n",
       "      <th>Song ID</th>\n",
       "      <th>clean_overlap_notes_midi</th>\n",
       "      <th>notes</th>\n",
       "    </tr>\n",
       "  </thead>\n",
       "  <tbody>\n",
       "    <tr>\n",
       "      <th>0</th>\n",
       "      <td>q1</td>\n",
       "      <td>1118</td>\n",
       "      <td>&lt;pretty_midi.pretty_midi.PrettyMIDI object at ...</td>\n",
       "      <td>[Note(start=0.000000, end=1.207438, pitch=60, ...</td>\n",
       "    </tr>\n",
       "    <tr>\n",
       "      <th>1</th>\n",
       "      <td>q2</td>\n",
       "      <td>1438</td>\n",
       "      <td>&lt;pretty_midi.pretty_midi.PrettyMIDI object at ...</td>\n",
       "      <td>[Note(start=0.000000, end=1.172608, pitch=55, ...</td>\n",
       "    </tr>\n",
       "    <tr>\n",
       "      <th>2</th>\n",
       "      <td>q3</td>\n",
       "      <td>1546</td>\n",
       "      <td>&lt;pretty_midi.pretty_midi.PrettyMIDI object at ...</td>\n",
       "      <td>[Note(start=0.000000, end=0.313469, pitch=60, ...</td>\n",
       "    </tr>\n",
       "    <tr>\n",
       "      <th>3</th>\n",
       "      <td>q4</td>\n",
       "      <td>1579</td>\n",
       "      <td>&lt;pretty_midi.pretty_midi.PrettyMIDI object at ...</td>\n",
       "      <td>[Note(start=0.000000, end=0.290249, pitch=63, ...</td>\n",
       "    </tr>\n",
       "    <tr>\n",
       "      <th>4</th>\n",
       "      <td>q5</td>\n",
       "      <td>1808</td>\n",
       "      <td>&lt;pretty_midi.pretty_midi.PrettyMIDI object at ...</td>\n",
       "      <td>[Note(start=0.000000, end=0.522449, pitch=56, ...</td>\n",
       "    </tr>\n",
       "  </tbody>\n",
       "</table>\n",
       "</div>"
      ],
      "text/plain": [
       "  Query ID  Song ID                           clean_overlap_notes_midi  \\\n",
       "0       q1     1118  <pretty_midi.pretty_midi.PrettyMIDI object at ...   \n",
       "1       q2     1438  <pretty_midi.pretty_midi.PrettyMIDI object at ...   \n",
       "2       q3     1546  <pretty_midi.pretty_midi.PrettyMIDI object at ...   \n",
       "3       q4     1579  <pretty_midi.pretty_midi.PrettyMIDI object at ...   \n",
       "4       q5     1808  <pretty_midi.pretty_midi.PrettyMIDI object at ...   \n",
       "\n",
       "                                               notes  \n",
       "0  [Note(start=0.000000, end=1.207438, pitch=60, ...  \n",
       "1  [Note(start=0.000000, end=1.172608, pitch=55, ...  \n",
       "2  [Note(start=0.000000, end=0.313469, pitch=60, ...  \n",
       "3  [Note(start=0.000000, end=0.290249, pitch=63, ...  \n",
       "4  [Note(start=0.000000, end=0.522449, pitch=56, ...  "
      ]
     },
     "execution_count": 38,
     "metadata": {},
     "output_type": "execute_result"
    }
   ],
   "source": [
    "queries_sequence_encoding_df.head()"
   ]
  },
  {
   "cell_type": "code",
   "execution_count": 48,
   "id": "f940b0a1-ab24-4338-8e74-647aa11ee634",
   "metadata": {
    "tags": []
   },
   "outputs": [],
   "source": [
    "def get_pitch_diff_from_notes(notes):\n",
    "    pitch_diff_list=[]\n",
    "    for index,note in enumerate(notes):\n",
    "        if(index>0):\n",
    "            pitch_diff_list.append(note.pitch - notes[index-1].pitch)\n",
    "    return pitch_diff_list"
   ]
  },
  {
   "cell_type": "code",
   "execution_count": 49,
   "id": "efba3afd-1089-41a4-beba-a25d17a60ad3",
   "metadata": {
    "tags": []
   },
   "outputs": [],
   "source": [
    "queries_sequence_encoding_df['pitch_diff'] = queries_sequence_encoding_df[\"notes\"].apply(get_pitch_diff_from_notes)"
   ]
  },
  {
   "cell_type": "code",
   "execution_count": 56,
   "id": "371b697c-b58a-4e03-be19-112f90c6b5a4",
   "metadata": {
    "tags": []
   },
   "outputs": [],
   "source": [
    "song_sequence_encoding_df['pitch_diff'] = song_sequence_encoding_df['notes'].apply(get_pitch_diff_from_notes)"
   ]
  },
  {
   "cell_type": "code",
   "execution_count": 60,
   "id": "f29a86d8-002f-4044-bd88-ad87c1db4411",
   "metadata": {
    "tags": []
   },
   "outputs": [],
   "source": [
    "def get_up_same_down_from_diff_pitch(diff_pitches):\n",
    "    result=[]\n",
    "    for diff in diff_pitches:\n",
    "        if(diff>0):\n",
    "            result.append(\"U\")\n",
    "        if(diff<0):\n",
    "            result.append(\"D\")\n",
    "        if(diff==0):\n",
    "            result.append(\"S\")    \n",
    "    return result"
   ]
  },
  {
   "cell_type": "code",
   "execution_count": 63,
   "id": "036ab734-63ad-4709-899e-e36e34629651",
   "metadata": {
    "tags": []
   },
   "outputs": [],
   "source": [
    "queries_sequence_encoding_df['UpSameDown'] = queries_sequence_encoding_df['pitch_diff'].apply(get_up_same_down_from_diff_pitch)\n",
    "song_sequence_encoding_df['UpSameDown'] = song_sequence_encoding_df['pitch_diff'].apply(get_up_same_down_from_diff_pitch)"
   ]
  },
  {
   "cell_type": "code",
   "execution_count": 66,
   "id": "63643d87-3cdf-4caa-8b01-c88265d01290",
   "metadata": {
    "tags": []
   },
   "outputs": [],
   "source": [
    "queries_sequence_encoding_df[[\"Query ID\",\"Song ID\",\"notes\",\"pitch_diff\",\"UpSameDown\"]].to_pickle(\"./queries_sequence_df.pkl\")"
   ]
  },
  {
   "cell_type": "code",
   "execution_count": 68,
   "id": "91e248ca-9973-4f1e-90e3-5b1428f18893",
   "metadata": {
    "tags": []
   },
   "outputs": [],
   "source": [
    "song_sequence_encoding_df[[\"Song ID\",\"notes\",\"pitch_diff\",\"UpSameDown\"]].to_pickle(\"./songs_sequence_df.pkl\")"
   ]
  },
  {
   "cell_type": "code",
   "execution_count": null,
   "id": "7be42a1f-d95d-4b0a-b040-deb17af5a00d",
   "metadata": {},
   "outputs": [],
   "source": []
  },
  {
   "cell_type": "code",
   "execution_count": null,
   "id": "89f14f0b-13eb-40c3-ba6c-3e4dee578c0d",
   "metadata": {},
   "outputs": [],
   "source": [
    "# TESTING"
   ]
  },
  {
   "cell_type": "code",
   "execution_count": 3,
   "id": "8acec7ec-2c12-47f8-bfad-1653bfc9e1ec",
   "metadata": {
    "tags": []
   },
   "outputs": [],
   "source": [
    "df = pd.read_pickle(\"./songs_sequence_df.pkl\")"
   ]
  },
  {
   "cell_type": "code",
   "execution_count": 5,
   "id": "c93941ec-b011-46f1-99f4-3bec27fbcc3e",
   "metadata": {
    "tags": []
   },
   "outputs": [],
   "source": [
    "df['num_notes'] = df[\"notes\"].apply(lambda x: len(x))"
   ]
  },
  {
   "cell_type": "code",
   "execution_count": 7,
   "id": "0842f90f-ba32-4378-bdc8-c3814256ea40",
   "metadata": {
    "tags": []
   },
   "outputs": [
    {
     "data": {
      "text/html": [
       "<div>\n",
       "<style scoped>\n",
       "    .dataframe tbody tr th:only-of-type {\n",
       "        vertical-align: middle;\n",
       "    }\n",
       "\n",
       "    .dataframe tbody tr th {\n",
       "        vertical-align: top;\n",
       "    }\n",
       "\n",
       "    .dataframe thead th {\n",
       "        text-align: right;\n",
       "    }\n",
       "</style>\n",
       "<table border=\"1\" class=\"dataframe\">\n",
       "  <thead>\n",
       "    <tr style=\"text-align: right;\">\n",
       "      <th></th>\n",
       "      <th>Song ID</th>\n",
       "      <th>notes</th>\n",
       "      <th>pitch_diff</th>\n",
       "      <th>UpSameDown</th>\n",
       "      <th>num_notes</th>\n",
       "    </tr>\n",
       "  </thead>\n",
       "  <tbody>\n",
       "    <tr>\n",
       "      <th>221</th>\n",
       "      <td>1081</td>\n",
       "      <td>[Note(start=0.000000, end=0.452789, pitch=63, ...</td>\n",
       "      <td>[-34, 0, 12, -12, 0, 19, -19, 20, 26, -26, 14,...</td>\n",
       "      <td>[D, S, U, D, S, U, D, U, U, D, U, D, U, D, S, ...</td>\n",
       "      <td>22</td>\n",
       "    </tr>\n",
       "    <tr>\n",
       "      <th>26</th>\n",
       "      <td>126</td>\n",
       "      <td>[Note(start=0.000000, end=0.476009, pitch=36, ...</td>\n",
       "      <td>[25, 5, 0, -10, -27, 46, -38, -4, 4, -4, 0, 42...</td>\n",
       "      <td>[U, U, S, D, D, U, D, D, U, D, S, U, D, D, S, ...</td>\n",
       "      <td>24</td>\n",
       "    </tr>\n",
       "    <tr>\n",
       "      <th>327</th>\n",
       "      <td>1566</td>\n",
       "      <td>[Note(start=0.000000, end=0.603719, pitch=64, ...</td>\n",
       "      <td>[3, -3, -1, 1, 0, -1, 1, 0, 0, 0, 0, 3, 0, 0, ...</td>\n",
       "      <td>[U, D, D, U, S, D, U, S, S, S, S, U, S, S, S, ...</td>\n",
       "      <td>27</td>\n",
       "    </tr>\n",
       "    <tr>\n",
       "      <th>250</th>\n",
       "      <td>1212</td>\n",
       "      <td>[Note(start=0.000000, end=0.174150, pitch=41, ...</td>\n",
       "      <td>[4, 3, -2, -5, 9, -2, -7, 15, -8, -6, 4, -4, 6...</td>\n",
       "      <td>[U, U, D, D, U, D, D, U, D, D, U, D, U, U, D, ...</td>\n",
       "      <td>32</td>\n",
       "    </tr>\n",
       "    <tr>\n",
       "      <th>43</th>\n",
       "      <td>240</td>\n",
       "      <td>[Note(start=0.000000, end=0.162540, pitch=59, ...</td>\n",
       "      <td>[-19, 19, -7, 0, 7, -19, 12, -12, 12, 0, 7, -1...</td>\n",
       "      <td>[D, U, D, S, U, D, U, D, U, S, U, D, U, S, D, ...</td>\n",
       "      <td>35</td>\n",
       "    </tr>\n",
       "    <tr>\n",
       "      <th>322</th>\n",
       "      <td>1536</td>\n",
       "      <td>[Note(start=0.000000, end=0.150930, pitch=58, ...</td>\n",
       "      <td>[4, 0, 0, 0, 0, 0, -4, 0, 8, 1, -7, -2, 0, 4, ...</td>\n",
       "      <td>[U, S, S, S, S, S, D, S, U, U, D, D, S, U, S, ...</td>\n",
       "      <td>52</td>\n",
       "    </tr>\n",
       "    <tr>\n",
       "      <th>273</th>\n",
       "      <td>1313</td>\n",
       "      <td>[Note(start=0.000000, end=0.359909, pitch=50, ...</td>\n",
       "      <td>[2, -12, 22, -3, -2, 5, -3, 0, -2, -2, -1, -2,...</td>\n",
       "      <td>[U, D, U, D, D, U, D, S, D, D, D, D, U, U, D, ...</td>\n",
       "      <td>56</td>\n",
       "    </tr>\n",
       "    <tr>\n",
       "      <th>352</th>\n",
       "      <td>1655</td>\n",
       "      <td>[Note(start=0.000000, end=0.139320, pitch=64, ...</td>\n",
       "      <td>[-2, 2, 8, -8, 0, 0, 0, -2, 7, -7, 2, 0, 0, -1...</td>\n",
       "      <td>[D, U, U, D, S, S, S, D, U, D, U, S, S, D, D, ...</td>\n",
       "      <td>60</td>\n",
       "    </tr>\n",
       "    <tr>\n",
       "      <th>355</th>\n",
       "      <td>1691</td>\n",
       "      <td>[Note(start=0.000000, end=4.878758, pitch=29, ...</td>\n",
       "      <td>[63, 0, -45, 0, 15, -13, -6, 6, 0, 28, -15, -1...</td>\n",
       "      <td>[U, S, D, S, U, D, D, U, S, U, D, D, U, U, D, ...</td>\n",
       "      <td>63</td>\n",
       "    </tr>\n",
       "    <tr>\n",
       "      <th>231</th>\n",
       "      <td>1123</td>\n",
       "      <td>[Note(start=0.000000, end=0.139320, pitch=44, ...</td>\n",
       "      <td>[2, -2, 0, 0, 2, -1, -1, 1, 1, -2, 2, -1, 1, -...</td>\n",
       "      <td>[U, D, S, S, U, D, D, U, U, D, U, D, U, D, U, ...</td>\n",
       "      <td>67</td>\n",
       "    </tr>\n",
       "    <tr>\n",
       "      <th>205</th>\n",
       "      <td>995</td>\n",
       "      <td>[Note(start=0.000000, end=0.185760, pitch=64, ...</td>\n",
       "      <td>[27, -41, 0, 0, 12, 12, -12, 12, -24, 36, -32,...</td>\n",
       "      <td>[U, D, S, S, U, U, D, U, D, U, D, D, U, S, S, ...</td>\n",
       "      <td>67</td>\n",
       "    </tr>\n",
       "    <tr>\n",
       "      <th>368</th>\n",
       "      <td>1754</td>\n",
       "      <td>[Note(start=0.000000, end=0.208980, pitch=64, ...</td>\n",
       "      <td>[-2, 12, 0, -12, 9, -4, 5, -1, -2, 2, -7, -5, ...</td>\n",
       "      <td>[D, U, S, D, U, D, U, D, D, U, D, D, U, U, D, ...</td>\n",
       "      <td>68</td>\n",
       "    </tr>\n",
       "    <tr>\n",
       "      <th>296</th>\n",
       "      <td>1411</td>\n",
       "      <td>[Note(start=0.000000, end=0.557279, pitch=51, ...</td>\n",
       "      <td>[1, 0, 0, 0, 0, 0, 5, 0, -5, 0, 0, 12, -12, -1...</td>\n",
       "      <td>[U, S, S, S, S, S, U, S, D, S, S, U, D, D, U, ...</td>\n",
       "      <td>69</td>\n",
       "    </tr>\n",
       "    <tr>\n",
       "      <th>306</th>\n",
       "      <td>1461</td>\n",
       "      <td>[Note(start=0.000000, end=0.255420, pitch=62, ...</td>\n",
       "      <td>[5, 0, 7, -7, 0, 0, 0, 0, 0, 0, 0, 2, -2, 2, -...</td>\n",
       "      <td>[U, S, U, D, S, S, S, S, S, S, S, U, D, U, D, ...</td>\n",
       "      <td>73</td>\n",
       "    </tr>\n",
       "    <tr>\n",
       "      <th>121</th>\n",
       "      <td>608</td>\n",
       "      <td>[Note(start=0.000000, end=0.267029, pitch=38, ...</td>\n",
       "      <td>[19, -7, -12, 12, -12, 12, 0, 0, 0, -12, 12, -...</td>\n",
       "      <td>[U, D, D, U, D, U, S, S, S, D, U, D, U, D, U, ...</td>\n",
       "      <td>74</td>\n",
       "    </tr>\n",
       "    <tr>\n",
       "      <th>400</th>\n",
       "      <td>2063</td>\n",
       "      <td>[Note(start=0.000000, end=0.208980, pitch=64, ...</td>\n",
       "      <td>[0, 0, -2, 2, 0, 0, 0, 5, -2, -2, -1, 0, 0, -2...</td>\n",
       "      <td>[S, S, D, U, S, S, S, U, D, D, D, S, S, D, S, ...</td>\n",
       "      <td>76</td>\n",
       "    </tr>\n",
       "    <tr>\n",
       "      <th>191</th>\n",
       "      <td>912</td>\n",
       "      <td>[Note(start=0.000000, end=0.197370, pitch=67, ...</td>\n",
       "      <td>[0, -1, 1, -1, 1, -2, 1, -2, 10, -12, 12, -7, ...</td>\n",
       "      <td>[S, D, U, D, U, D, U, D, U, D, U, D, S, U, U, ...</td>\n",
       "      <td>79</td>\n",
       "    </tr>\n",
       "    <tr>\n",
       "      <th>342</th>\n",
       "      <td>1620</td>\n",
       "      <td>[Note(start=0.000000, end=0.139320, pitch=61, ...</td>\n",
       "      <td>[-16, 29, -34, 36, -31, 5, -1, 5, 9, -9, -3, 3...</td>\n",
       "      <td>[D, U, D, U, D, U, D, U, U, D, D, U, U, D, U, ...</td>\n",
       "      <td>87</td>\n",
       "    </tr>\n",
       "    <tr>\n",
       "      <th>119</th>\n",
       "      <td>601</td>\n",
       "      <td>[Note(start=0.000000, end=1.277098, pitch=60, ...</td>\n",
       "      <td>[7, -10, -2, 5, -8, -2, -5, 0, 14, 1, 2, 0, 2,...</td>\n",
       "      <td>[U, D, D, U, D, D, D, S, U, U, U, S, U, U, D, ...</td>\n",
       "      <td>89</td>\n",
       "    </tr>\n",
       "    <tr>\n",
       "      <th>278</th>\n",
       "      <td>1333</td>\n",
       "      <td>[Note(start=0.000000, end=0.139320, pitch=51, ...</td>\n",
       "      <td>[-11, 12, -12, 12, -12, 11, 12, 0, -1, -1, 0, ...</td>\n",
       "      <td>[D, U, D, U, D, U, U, S, D, D, S, U, U, D, U, ...</td>\n",
       "      <td>91</td>\n",
       "    </tr>\n",
       "  </tbody>\n",
       "</table>\n",
       "</div>"
      ],
      "text/plain": [
       "     Song ID                                              notes  \\\n",
       "221     1081  [Note(start=0.000000, end=0.452789, pitch=63, ...   \n",
       "26       126  [Note(start=0.000000, end=0.476009, pitch=36, ...   \n",
       "327     1566  [Note(start=0.000000, end=0.603719, pitch=64, ...   \n",
       "250     1212  [Note(start=0.000000, end=0.174150, pitch=41, ...   \n",
       "43       240  [Note(start=0.000000, end=0.162540, pitch=59, ...   \n",
       "322     1536  [Note(start=0.000000, end=0.150930, pitch=58, ...   \n",
       "273     1313  [Note(start=0.000000, end=0.359909, pitch=50, ...   \n",
       "352     1655  [Note(start=0.000000, end=0.139320, pitch=64, ...   \n",
       "355     1691  [Note(start=0.000000, end=4.878758, pitch=29, ...   \n",
       "231     1123  [Note(start=0.000000, end=0.139320, pitch=44, ...   \n",
       "205      995  [Note(start=0.000000, end=0.185760, pitch=64, ...   \n",
       "368     1754  [Note(start=0.000000, end=0.208980, pitch=64, ...   \n",
       "296     1411  [Note(start=0.000000, end=0.557279, pitch=51, ...   \n",
       "306     1461  [Note(start=0.000000, end=0.255420, pitch=62, ...   \n",
       "121      608  [Note(start=0.000000, end=0.267029, pitch=38, ...   \n",
       "400     2063  [Note(start=0.000000, end=0.208980, pitch=64, ...   \n",
       "191      912  [Note(start=0.000000, end=0.197370, pitch=67, ...   \n",
       "342     1620  [Note(start=0.000000, end=0.139320, pitch=61, ...   \n",
       "119      601  [Note(start=0.000000, end=1.277098, pitch=60, ...   \n",
       "278     1333  [Note(start=0.000000, end=0.139320, pitch=51, ...   \n",
       "\n",
       "                                            pitch_diff  \\\n",
       "221  [-34, 0, 12, -12, 0, 19, -19, 20, 26, -26, 14,...   \n",
       "26   [25, 5, 0, -10, -27, 46, -38, -4, 4, -4, 0, 42...   \n",
       "327  [3, -3, -1, 1, 0, -1, 1, 0, 0, 0, 0, 3, 0, 0, ...   \n",
       "250  [4, 3, -2, -5, 9, -2, -7, 15, -8, -6, 4, -4, 6...   \n",
       "43   [-19, 19, -7, 0, 7, -19, 12, -12, 12, 0, 7, -1...   \n",
       "322  [4, 0, 0, 0, 0, 0, -4, 0, 8, 1, -7, -2, 0, 4, ...   \n",
       "273  [2, -12, 22, -3, -2, 5, -3, 0, -2, -2, -1, -2,...   \n",
       "352  [-2, 2, 8, -8, 0, 0, 0, -2, 7, -7, 2, 0, 0, -1...   \n",
       "355  [63, 0, -45, 0, 15, -13, -6, 6, 0, 28, -15, -1...   \n",
       "231  [2, -2, 0, 0, 2, -1, -1, 1, 1, -2, 2, -1, 1, -...   \n",
       "205  [27, -41, 0, 0, 12, 12, -12, 12, -24, 36, -32,...   \n",
       "368  [-2, 12, 0, -12, 9, -4, 5, -1, -2, 2, -7, -5, ...   \n",
       "296  [1, 0, 0, 0, 0, 0, 5, 0, -5, 0, 0, 12, -12, -1...   \n",
       "306  [5, 0, 7, -7, 0, 0, 0, 0, 0, 0, 0, 2, -2, 2, -...   \n",
       "121  [19, -7, -12, 12, -12, 12, 0, 0, 0, -12, 12, -...   \n",
       "400  [0, 0, -2, 2, 0, 0, 0, 5, -2, -2, -1, 0, 0, -2...   \n",
       "191  [0, -1, 1, -1, 1, -2, 1, -2, 10, -12, 12, -7, ...   \n",
       "342  [-16, 29, -34, 36, -31, 5, -1, 5, 9, -9, -3, 3...   \n",
       "119  [7, -10, -2, 5, -8, -2, -5, 0, 14, 1, 2, 0, 2,...   \n",
       "278  [-11, 12, -12, 12, -12, 11, 12, 0, -1, -1, 0, ...   \n",
       "\n",
       "                                            UpSameDown  num_notes  \n",
       "221  [D, S, U, D, S, U, D, U, U, D, U, D, U, D, S, ...         22  \n",
       "26   [U, U, S, D, D, U, D, D, U, D, S, U, D, D, S, ...         24  \n",
       "327  [U, D, D, U, S, D, U, S, S, S, S, U, S, S, S, ...         27  \n",
       "250  [U, U, D, D, U, D, D, U, D, D, U, D, U, U, D, ...         32  \n",
       "43   [D, U, D, S, U, D, U, D, U, S, U, D, U, S, D, ...         35  \n",
       "322  [U, S, S, S, S, S, D, S, U, U, D, D, S, U, S, ...         52  \n",
       "273  [U, D, U, D, D, U, D, S, D, D, D, D, U, U, D, ...         56  \n",
       "352  [D, U, U, D, S, S, S, D, U, D, U, S, S, D, D, ...         60  \n",
       "355  [U, S, D, S, U, D, D, U, S, U, D, D, U, U, D, ...         63  \n",
       "231  [U, D, S, S, U, D, D, U, U, D, U, D, U, D, U, ...         67  \n",
       "205  [U, D, S, S, U, U, D, U, D, U, D, D, U, S, S, ...         67  \n",
       "368  [D, U, S, D, U, D, U, D, D, U, D, D, U, U, D, ...         68  \n",
       "296  [U, S, S, S, S, S, U, S, D, S, S, U, D, D, U, ...         69  \n",
       "306  [U, S, U, D, S, S, S, S, S, S, S, U, D, U, D, ...         73  \n",
       "121  [U, D, D, U, D, U, S, S, S, D, U, D, U, D, U, ...         74  \n",
       "400  [S, S, D, U, S, S, S, U, D, D, D, S, S, D, S, ...         76  \n",
       "191  [S, D, U, D, U, D, U, D, U, D, U, D, S, U, U, ...         79  \n",
       "342  [D, U, D, U, D, U, D, U, U, D, D, U, U, D, U, ...         87  \n",
       "119  [U, D, D, U, D, D, D, S, U, U, U, S, U, U, D, ...         89  \n",
       "278  [D, U, D, U, D, U, U, S, D, D, S, U, U, D, U, ...         91  "
      ]
     },
     "execution_count": 7,
     "metadata": {},
     "output_type": "execute_result"
    }
   ],
   "source": [
    "df.sort_values(by='num_notes').head(20)"
   ]
  }
 ],
 "metadata": {
  "kernelspec": {
   "display_name": "Python 3 (ipykernel)",
   "language": "python",
   "name": "python3"
  },
  "language_info": {
   "codemirror_mode": {
    "name": "ipython",
    "version": 3
   },
   "file_extension": ".py",
   "mimetype": "text/x-python",
   "name": "python",
   "nbconvert_exporter": "python",
   "pygments_lexer": "ipython3",
   "version": "3.11.5"
  }
 },
 "nbformat": 4,
 "nbformat_minor": 5
}
